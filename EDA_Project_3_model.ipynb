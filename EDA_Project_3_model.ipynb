{
 "cells": [
  {
   "cell_type": "markdown",
   "metadata": {},
   "source": [
    "# Импорт библиотек"
   ]
  },
  {
   "cell_type": "code",
   "execution_count": 1,
   "metadata": {},
   "outputs": [],
   "source": [
    "import pandas as pd\n",
    "import numpy as np\n",
    "import seaborn as sns\n",
    "import matplotlib.pyplot as plt\n",
    "import re\n",
    "import requests # Импортируем библиотеку requests\n",
    "import category_encoders as ce\n",
    "from scipy import stats\n",
    "import statsmodels.api as sm\n",
    "from statsmodels import stats as sms\n",
    "\n",
    "from math import log"
   ]
  },
  {
   "cell_type": "markdown",
   "metadata": {},
   "source": [
    "# 1. Чтение данных"
   ]
  },
  {
   "cell_type": "code",
   "execution_count": 213,
   "metadata": {},
   "outputs": [],
   "source": [
    "hotels = pd.read_csv('./data/hotels.csv')\n"
   ]
  },
  {
   "cell_type": "markdown",
   "metadata": {},
   "source": [
    "# 2. Исследование данных"
   ]
  },
  {
   "cell_type": "code",
   "execution_count": 11,
   "metadata": {},
   "outputs": [
    {
     "data": {
      "text/html": [
       "<div>\n",
       "<style scoped>\n",
       "    .dataframe tbody tr th:only-of-type {\n",
       "        vertical-align: middle;\n",
       "    }\n",
       "\n",
       "    .dataframe tbody tr th {\n",
       "        vertical-align: top;\n",
       "    }\n",
       "\n",
       "    .dataframe thead th {\n",
       "        text-align: right;\n",
       "    }\n",
       "</style>\n",
       "<table border=\"1\" class=\"dataframe\">\n",
       "  <thead>\n",
       "    <tr style=\"text-align: right;\">\n",
       "      <th></th>\n",
       "      <th>hotel_address</th>\n",
       "      <th>additional_number_of_scoring</th>\n",
       "      <th>review_date</th>\n",
       "      <th>average_score</th>\n",
       "      <th>hotel_name</th>\n",
       "      <th>reviewer_nationality</th>\n",
       "      <th>negative_review</th>\n",
       "      <th>review_total_negative_word_counts</th>\n",
       "      <th>total_number_of_reviews</th>\n",
       "      <th>positive_review</th>\n",
       "      <th>review_total_positive_word_counts</th>\n",
       "      <th>total_number_of_reviews_reviewer_has_given</th>\n",
       "      <th>reviewer_score</th>\n",
       "      <th>tags</th>\n",
       "      <th>days_since_review</th>\n",
       "      <th>lat</th>\n",
       "      <th>lng</th>\n",
       "    </tr>\n",
       "  </thead>\n",
       "  <tbody>\n",
       "    <tr>\n",
       "      <th>0</th>\n",
       "      <td>Stratton Street Mayfair Westminster Borough Lo...</td>\n",
       "      <td>581</td>\n",
       "      <td>2/19/2016</td>\n",
       "      <td>8.4</td>\n",
       "      <td>The May Fair Hotel</td>\n",
       "      <td>United Kingdom</td>\n",
       "      <td>Leaving</td>\n",
       "      <td>3</td>\n",
       "      <td>1994</td>\n",
       "      <td>Staff were amazing</td>\n",
       "      <td>4</td>\n",
       "      <td>7</td>\n",
       "      <td>10.0</td>\n",
       "      <td>[' Leisure trip ', ' Couple ', ' Studio Suite ...</td>\n",
       "      <td>531 day</td>\n",
       "      <td>51.507894</td>\n",
       "      <td>-0.143671</td>\n",
       "    </tr>\n",
       "    <tr>\n",
       "      <th>1</th>\n",
       "      <td>130 134 Southampton Row Camden London WC1B 5AF...</td>\n",
       "      <td>299</td>\n",
       "      <td>1/12/2017</td>\n",
       "      <td>8.3</td>\n",
       "      <td>Mercure London Bloomsbury Hotel</td>\n",
       "      <td>United Kingdom</td>\n",
       "      <td>poor breakfast</td>\n",
       "      <td>3</td>\n",
       "      <td>1361</td>\n",
       "      <td>location</td>\n",
       "      <td>2</td>\n",
       "      <td>14</td>\n",
       "      <td>6.3</td>\n",
       "      <td>[' Business trip ', ' Couple ', ' Standard Dou...</td>\n",
       "      <td>203 day</td>\n",
       "      <td>51.521009</td>\n",
       "      <td>-0.123097</td>\n",
       "    </tr>\n",
       "  </tbody>\n",
       "</table>\n",
       "</div>"
      ],
      "text/plain": [
       "                                       hotel_address  \\\n",
       "0  Stratton Street Mayfair Westminster Borough Lo...   \n",
       "1  130 134 Southampton Row Camden London WC1B 5AF...   \n",
       "\n",
       "   additional_number_of_scoring review_date  average_score  \\\n",
       "0                           581   2/19/2016            8.4   \n",
       "1                           299   1/12/2017            8.3   \n",
       "\n",
       "                        hotel_name reviewer_nationality  negative_review  \\\n",
       "0               The May Fair Hotel      United Kingdom          Leaving    \n",
       "1  Mercure London Bloomsbury Hotel      United Kingdom    poor breakfast   \n",
       "\n",
       "   review_total_negative_word_counts  total_number_of_reviews  \\\n",
       "0                                  3                     1994   \n",
       "1                                  3                     1361   \n",
       "\n",
       "       positive_review  review_total_positive_word_counts  \\\n",
       "0   Staff were amazing                                  4   \n",
       "1             location                                  2   \n",
       "\n",
       "   total_number_of_reviews_reviewer_has_given  reviewer_score  \\\n",
       "0                                           7            10.0   \n",
       "1                                          14             6.3   \n",
       "\n",
       "                                                tags days_since_review  \\\n",
       "0  [' Leisure trip ', ' Couple ', ' Studio Suite ...           531 day   \n",
       "1  [' Business trip ', ' Couple ', ' Standard Dou...           203 day   \n",
       "\n",
       "         lat       lng  \n",
       "0  51.507894 -0.143671  \n",
       "1  51.521009 -0.123097  "
      ]
     },
     "metadata": {},
     "output_type": "display_data"
    },
    {
     "name": "stdout",
     "output_type": "stream",
     "text": [
      "<class 'pandas.core.frame.DataFrame'>\n",
      "RangeIndex: 386803 entries, 0 to 386802\n",
      "Data columns (total 17 columns):\n",
      " #   Column                                      Non-Null Count   Dtype  \n",
      "---  ------                                      --------------   -----  \n",
      " 0   hotel_address                               386803 non-null  object \n",
      " 1   additional_number_of_scoring                386803 non-null  int64  \n",
      " 2   review_date                                 386803 non-null  object \n",
      " 3   average_score                               386803 non-null  float64\n",
      " 4   hotel_name                                  386803 non-null  object \n",
      " 5   reviewer_nationality                        386803 non-null  object \n",
      " 6   negative_review                             386803 non-null  object \n",
      " 7   review_total_negative_word_counts           386803 non-null  int64  \n",
      " 8   total_number_of_reviews                     386803 non-null  int64  \n",
      " 9   positive_review                             386803 non-null  object \n",
      " 10  review_total_positive_word_counts           386803 non-null  int64  \n",
      " 11  total_number_of_reviews_reviewer_has_given  386803 non-null  int64  \n",
      " 12  reviewer_score                              386803 non-null  float64\n",
      " 13  tags                                        386803 non-null  object \n",
      " 14  days_since_review                           386803 non-null  object \n",
      " 15  lat                                         384355 non-null  float64\n",
      " 16  lng                                         384355 non-null  float64\n",
      "dtypes: float64(4), int64(5), object(8)\n",
      "memory usage: 50.2+ MB\n"
     ]
    },
    {
     "data": {
      "text/plain": [
       "None"
      ]
     },
     "metadata": {},
     "output_type": "display_data"
    }
   ],
   "source": [
    "display(hotels.head(2))\n",
    "display(hotels.info())"
   ]
  },
  {
   "cell_type": "code",
   "execution_count": 12,
   "metadata": {},
   "outputs": [
    {
     "data": {
      "text/html": [
       "<div>\n",
       "<style scoped>\n",
       "    .dataframe tbody tr th:only-of-type {\n",
       "        vertical-align: middle;\n",
       "    }\n",
       "\n",
       "    .dataframe tbody tr th {\n",
       "        vertical-align: top;\n",
       "    }\n",
       "\n",
       "    .dataframe thead th {\n",
       "        text-align: right;\n",
       "    }\n",
       "</style>\n",
       "<table border=\"1\" class=\"dataframe\">\n",
       "  <thead>\n",
       "    <tr style=\"text-align: right;\">\n",
       "      <th></th>\n",
       "      <th>hotel_address</th>\n",
       "      <th>additional_number_of_scoring</th>\n",
       "      <th>review_date</th>\n",
       "      <th>average_score</th>\n",
       "      <th>hotel_name</th>\n",
       "      <th>reviewer_nationality</th>\n",
       "      <th>negative_review</th>\n",
       "      <th>review_total_negative_word_counts</th>\n",
       "      <th>total_number_of_reviews</th>\n",
       "      <th>positive_review</th>\n",
       "      <th>review_total_positive_word_counts</th>\n",
       "      <th>total_number_of_reviews_reviewer_has_given</th>\n",
       "      <th>reviewer_score</th>\n",
       "      <th>tags</th>\n",
       "      <th>days_since_review</th>\n",
       "      <th>lat</th>\n",
       "      <th>lng</th>\n",
       "    </tr>\n",
       "  </thead>\n",
       "  <tbody>\n",
       "    <tr>\n",
       "      <th>0</th>\n",
       "      <td>Stratton Street Mayfair Westminster Borough Lo...</td>\n",
       "      <td>581</td>\n",
       "      <td>2/19/2016</td>\n",
       "      <td>8.4</td>\n",
       "      <td>The May Fair Hotel</td>\n",
       "      <td>United Kingdom</td>\n",
       "      <td>Leaving</td>\n",
       "      <td>3</td>\n",
       "      <td>1994</td>\n",
       "      <td>Staff were amazing</td>\n",
       "      <td>4</td>\n",
       "      <td>7</td>\n",
       "      <td>10.0</td>\n",
       "      <td>[' Leisure trip ', ' Couple ', ' Studio Suite ...</td>\n",
       "      <td>531 day</td>\n",
       "      <td>51.507894</td>\n",
       "      <td>-0.143671</td>\n",
       "    </tr>\n",
       "    <tr>\n",
       "      <th>1</th>\n",
       "      <td>130 134 Southampton Row Camden London WC1B 5AF...</td>\n",
       "      <td>299</td>\n",
       "      <td>1/12/2017</td>\n",
       "      <td>8.3</td>\n",
       "      <td>Mercure London Bloomsbury Hotel</td>\n",
       "      <td>United Kingdom</td>\n",
       "      <td>poor breakfast</td>\n",
       "      <td>3</td>\n",
       "      <td>1361</td>\n",
       "      <td>location</td>\n",
       "      <td>2</td>\n",
       "      <td>14</td>\n",
       "      <td>6.3</td>\n",
       "      <td>[' Business trip ', ' Couple ', ' Standard Dou...</td>\n",
       "      <td>203 day</td>\n",
       "      <td>51.521009</td>\n",
       "      <td>-0.123097</td>\n",
       "    </tr>\n",
       "  </tbody>\n",
       "</table>\n",
       "</div>"
      ],
      "text/plain": [
       "                                       hotel_address  \\\n",
       "0  Stratton Street Mayfair Westminster Borough Lo...   \n",
       "1  130 134 Southampton Row Camden London WC1B 5AF...   \n",
       "\n",
       "   additional_number_of_scoring review_date  average_score  \\\n",
       "0                           581   2/19/2016            8.4   \n",
       "1                           299   1/12/2017            8.3   \n",
       "\n",
       "                        hotel_name reviewer_nationality  negative_review  \\\n",
       "0               The May Fair Hotel      United Kingdom          Leaving    \n",
       "1  Mercure London Bloomsbury Hotel      United Kingdom    poor breakfast   \n",
       "\n",
       "   review_total_negative_word_counts  total_number_of_reviews  \\\n",
       "0                                  3                     1994   \n",
       "1                                  3                     1361   \n",
       "\n",
       "       positive_review  review_total_positive_word_counts  \\\n",
       "0   Staff were amazing                                  4   \n",
       "1             location                                  2   \n",
       "\n",
       "   total_number_of_reviews_reviewer_has_given  reviewer_score  \\\n",
       "0                                           7            10.0   \n",
       "1                                          14             6.3   \n",
       "\n",
       "                                                tags days_since_review  \\\n",
       "0  [' Leisure trip ', ' Couple ', ' Studio Suite ...           531 day   \n",
       "1  [' Business trip ', ' Couple ', ' Standard Dou...           203 day   \n",
       "\n",
       "         lat       lng  \n",
       "0  51.507894 -0.143671  \n",
       "1  51.521009 -0.123097  "
      ]
     },
     "metadata": {},
     "output_type": "display_data"
    },
    {
     "name": "stdout",
     "output_type": "stream",
     "text": [
      "<class 'pandas.core.frame.DataFrame'>\n",
      "RangeIndex: 386803 entries, 0 to 386802\n",
      "Data columns (total 17 columns):\n",
      " #   Column                                      Non-Null Count   Dtype  \n",
      "---  ------                                      --------------   -----  \n",
      " 0   hotel_address                               386803 non-null  object \n",
      " 1   additional_number_of_scoring                386803 non-null  int64  \n",
      " 2   review_date                                 386803 non-null  object \n",
      " 3   average_score                               386803 non-null  float64\n",
      " 4   hotel_name                                  386803 non-null  object \n",
      " 5   reviewer_nationality                        386803 non-null  object \n",
      " 6   negative_review                             386803 non-null  object \n",
      " 7   review_total_negative_word_counts           386803 non-null  int64  \n",
      " 8   total_number_of_reviews                     386803 non-null  int64  \n",
      " 9   positive_review                             386803 non-null  object \n",
      " 10  review_total_positive_word_counts           386803 non-null  int64  \n",
      " 11  total_number_of_reviews_reviewer_has_given  386803 non-null  int64  \n",
      " 12  reviewer_score                              386803 non-null  float64\n",
      " 13  tags                                        386803 non-null  object \n",
      " 14  days_since_review                           386803 non-null  object \n",
      " 15  lat                                         384355 non-null  float64\n",
      " 16  lng                                         384355 non-null  float64\n",
      "dtypes: float64(4), int64(5), object(8)\n",
      "memory usage: 50.2+ MB\n"
     ]
    },
    {
     "data": {
      "text/plain": [
       "None"
      ]
     },
     "metadata": {},
     "output_type": "display_data"
    }
   ],
   "source": [
    "display(hotels.head(2))\n",
    "display(hotels.info())"
   ]
  },
  {
   "cell_type": "code",
   "execution_count": 13,
   "metadata": {},
   "outputs": [
    {
     "data": {
      "text/html": [
       "<div>\n",
       "<style scoped>\n",
       "    .dataframe tbody tr th:only-of-type {\n",
       "        vertical-align: middle;\n",
       "    }\n",
       "\n",
       "    .dataframe tbody tr th {\n",
       "        vertical-align: top;\n",
       "    }\n",
       "\n",
       "    .dataframe thead th {\n",
       "        text-align: right;\n",
       "    }\n",
       "</style>\n",
       "<table border=\"1\" class=\"dataframe\">\n",
       "  <thead>\n",
       "    <tr style=\"text-align: right;\">\n",
       "      <th></th>\n",
       "      <th>hotel_address</th>\n",
       "      <th>additional_number_of_scoring</th>\n",
       "      <th>review_date</th>\n",
       "      <th>average_score</th>\n",
       "      <th>hotel_name</th>\n",
       "      <th>reviewer_nationality</th>\n",
       "      <th>negative_review</th>\n",
       "      <th>review_total_negative_word_counts</th>\n",
       "      <th>total_number_of_reviews</th>\n",
       "      <th>positive_review</th>\n",
       "      <th>review_total_positive_word_counts</th>\n",
       "      <th>total_number_of_reviews_reviewer_has_given</th>\n",
       "      <th>reviewer_score</th>\n",
       "      <th>tags</th>\n",
       "      <th>days_since_review</th>\n",
       "      <th>lat</th>\n",
       "      <th>lng</th>\n",
       "    </tr>\n",
       "  </thead>\n",
       "  <tbody>\n",
       "    <tr>\n",
       "      <th>0</th>\n",
       "      <td>Stratton Street Mayfair Westminster Borough Lo...</td>\n",
       "      <td>581</td>\n",
       "      <td>2/19/2016</td>\n",
       "      <td>8.4</td>\n",
       "      <td>The May Fair Hotel</td>\n",
       "      <td>United Kingdom</td>\n",
       "      <td>Leaving</td>\n",
       "      <td>3</td>\n",
       "      <td>1994</td>\n",
       "      <td>Staff were amazing</td>\n",
       "      <td>4</td>\n",
       "      <td>7</td>\n",
       "      <td>10.0</td>\n",
       "      <td>[' Leisure trip ', ' Couple ', ' Studio Suite ...</td>\n",
       "      <td>531 day</td>\n",
       "      <td>51.507894</td>\n",
       "      <td>-0.143671</td>\n",
       "    </tr>\n",
       "    <tr>\n",
       "      <th>1</th>\n",
       "      <td>130 134 Southampton Row Camden London WC1B 5AF...</td>\n",
       "      <td>299</td>\n",
       "      <td>1/12/2017</td>\n",
       "      <td>8.3</td>\n",
       "      <td>Mercure London Bloomsbury Hotel</td>\n",
       "      <td>United Kingdom</td>\n",
       "      <td>poor breakfast</td>\n",
       "      <td>3</td>\n",
       "      <td>1361</td>\n",
       "      <td>location</td>\n",
       "      <td>2</td>\n",
       "      <td>14</td>\n",
       "      <td>6.3</td>\n",
       "      <td>[' Business trip ', ' Couple ', ' Standard Dou...</td>\n",
       "      <td>203 day</td>\n",
       "      <td>51.521009</td>\n",
       "      <td>-0.123097</td>\n",
       "    </tr>\n",
       "  </tbody>\n",
       "</table>\n",
       "</div>"
      ],
      "text/plain": [
       "                                       hotel_address  \\\n",
       "0  Stratton Street Mayfair Westminster Borough Lo...   \n",
       "1  130 134 Southampton Row Camden London WC1B 5AF...   \n",
       "\n",
       "   additional_number_of_scoring review_date  average_score  \\\n",
       "0                           581   2/19/2016            8.4   \n",
       "1                           299   1/12/2017            8.3   \n",
       "\n",
       "                        hotel_name reviewer_nationality  negative_review  \\\n",
       "0               The May Fair Hotel      United Kingdom          Leaving    \n",
       "1  Mercure London Bloomsbury Hotel      United Kingdom    poor breakfast   \n",
       "\n",
       "   review_total_negative_word_counts  total_number_of_reviews  \\\n",
       "0                                  3                     1994   \n",
       "1                                  3                     1361   \n",
       "\n",
       "       positive_review  review_total_positive_word_counts  \\\n",
       "0   Staff were amazing                                  4   \n",
       "1             location                                  2   \n",
       "\n",
       "   total_number_of_reviews_reviewer_has_given  reviewer_score  \\\n",
       "0                                           7            10.0   \n",
       "1                                          14             6.3   \n",
       "\n",
       "                                                tags days_since_review  \\\n",
       "0  [' Leisure trip ', ' Couple ', ' Studio Suite ...           531 day   \n",
       "1  [' Business trip ', ' Couple ', ' Standard Dou...           203 day   \n",
       "\n",
       "         lat       lng  \n",
       "0  51.507894 -0.143671  \n",
       "1  51.521009 -0.123097  "
      ]
     },
     "metadata": {},
     "output_type": "display_data"
    },
    {
     "name": "stdout",
     "output_type": "stream",
     "text": [
      "<class 'pandas.core.frame.DataFrame'>\n",
      "RangeIndex: 386803 entries, 0 to 386802\n",
      "Data columns (total 17 columns):\n",
      " #   Column                                      Non-Null Count   Dtype  \n",
      "---  ------                                      --------------   -----  \n",
      " 0   hotel_address                               386803 non-null  object \n",
      " 1   additional_number_of_scoring                386803 non-null  int64  \n",
      " 2   review_date                                 386803 non-null  object \n",
      " 3   average_score                               386803 non-null  float64\n",
      " 4   hotel_name                                  386803 non-null  object \n",
      " 5   reviewer_nationality                        386803 non-null  object \n",
      " 6   negative_review                             386803 non-null  object \n",
      " 7   review_total_negative_word_counts           386803 non-null  int64  \n",
      " 8   total_number_of_reviews                     386803 non-null  int64  \n",
      " 9   positive_review                             386803 non-null  object \n",
      " 10  review_total_positive_word_counts           386803 non-null  int64  \n",
      " 11  total_number_of_reviews_reviewer_has_given  386803 non-null  int64  \n",
      " 12  reviewer_score                              386803 non-null  float64\n",
      " 13  tags                                        386803 non-null  object \n",
      " 14  days_since_review                           386803 non-null  object \n",
      " 15  lat                                         384355 non-null  float64\n",
      " 16  lng                                         384355 non-null  float64\n",
      "dtypes: float64(4), int64(5), object(8)\n",
      "memory usage: 50.2+ MB\n"
     ]
    },
    {
     "data": {
      "text/plain": [
       "None"
      ]
     },
     "metadata": {},
     "output_type": "display_data"
    }
   ],
   "source": [
    "display(hotels.head(2))\n",
    "display(hotels.info())"
   ]
  },
  {
   "cell_type": "code",
   "execution_count": 14,
   "metadata": {},
   "outputs": [
    {
     "data": {
      "text/html": [
       "<div>\n",
       "<style scoped>\n",
       "    .dataframe tbody tr th:only-of-type {\n",
       "        vertical-align: middle;\n",
       "    }\n",
       "\n",
       "    .dataframe tbody tr th {\n",
       "        vertical-align: top;\n",
       "    }\n",
       "\n",
       "    .dataframe thead th {\n",
       "        text-align: right;\n",
       "    }\n",
       "</style>\n",
       "<table border=\"1\" class=\"dataframe\">\n",
       "  <thead>\n",
       "    <tr style=\"text-align: right;\">\n",
       "      <th></th>\n",
       "      <th>additional_number_of_scoring</th>\n",
       "      <th>average_score</th>\n",
       "      <th>review_total_negative_word_counts</th>\n",
       "      <th>total_number_of_reviews</th>\n",
       "      <th>review_total_positive_word_counts</th>\n",
       "      <th>total_number_of_reviews_reviewer_has_given</th>\n",
       "      <th>reviewer_score</th>\n",
       "      <th>lat</th>\n",
       "      <th>lng</th>\n",
       "    </tr>\n",
       "  </thead>\n",
       "  <tbody>\n",
       "    <tr>\n",
       "      <th>count</th>\n",
       "      <td>386803.000000</td>\n",
       "      <td>386803.000000</td>\n",
       "      <td>386803.000000</td>\n",
       "      <td>386803.000000</td>\n",
       "      <td>386803.000000</td>\n",
       "      <td>386803.00000</td>\n",
       "      <td>386803.000000</td>\n",
       "      <td>384355.000000</td>\n",
       "      <td>384355.000000</td>\n",
       "    </tr>\n",
       "    <tr>\n",
       "      <th>mean</th>\n",
       "      <td>498.246536</td>\n",
       "      <td>8.397231</td>\n",
       "      <td>18.538988</td>\n",
       "      <td>2743.992042</td>\n",
       "      <td>17.776985</td>\n",
       "      <td>7.17725</td>\n",
       "      <td>8.396906</td>\n",
       "      <td>49.443522</td>\n",
       "      <td>2.823402</td>\n",
       "    </tr>\n",
       "    <tr>\n",
       "      <th>std</th>\n",
       "      <td>500.258012</td>\n",
       "      <td>0.547881</td>\n",
       "      <td>29.703369</td>\n",
       "      <td>2316.457018</td>\n",
       "      <td>21.726141</td>\n",
       "      <td>11.05442</td>\n",
       "      <td>1.636090</td>\n",
       "      <td>3.466936</td>\n",
       "      <td>4.579043</td>\n",
       "    </tr>\n",
       "    <tr>\n",
       "      <th>min</th>\n",
       "      <td>1.000000</td>\n",
       "      <td>5.200000</td>\n",
       "      <td>0.000000</td>\n",
       "      <td>43.000000</td>\n",
       "      <td>0.000000</td>\n",
       "      <td>1.00000</td>\n",
       "      <td>2.500000</td>\n",
       "      <td>41.328376</td>\n",
       "      <td>-0.369758</td>\n",
       "    </tr>\n",
       "    <tr>\n",
       "      <th>25%</th>\n",
       "      <td>169.000000</td>\n",
       "      <td>8.100000</td>\n",
       "      <td>2.000000</td>\n",
       "      <td>1161.000000</td>\n",
       "      <td>5.000000</td>\n",
       "      <td>1.00000</td>\n",
       "      <td>7.500000</td>\n",
       "      <td>48.214662</td>\n",
       "      <td>-0.143649</td>\n",
       "    </tr>\n",
       "    <tr>\n",
       "      <th>50%</th>\n",
       "      <td>342.000000</td>\n",
       "      <td>8.400000</td>\n",
       "      <td>9.000000</td>\n",
       "      <td>2134.000000</td>\n",
       "      <td>11.000000</td>\n",
       "      <td>3.00000</td>\n",
       "      <td>8.800000</td>\n",
       "      <td>51.499981</td>\n",
       "      <td>-0.000250</td>\n",
       "    </tr>\n",
       "    <tr>\n",
       "      <th>75%</th>\n",
       "      <td>660.000000</td>\n",
       "      <td>8.800000</td>\n",
       "      <td>23.000000</td>\n",
       "      <td>3613.000000</td>\n",
       "      <td>22.000000</td>\n",
       "      <td>8.00000</td>\n",
       "      <td>9.600000</td>\n",
       "      <td>51.516288</td>\n",
       "      <td>4.834443</td>\n",
       "    </tr>\n",
       "    <tr>\n",
       "      <th>max</th>\n",
       "      <td>2682.000000</td>\n",
       "      <td>9.800000</td>\n",
       "      <td>408.000000</td>\n",
       "      <td>16670.000000</td>\n",
       "      <td>395.000000</td>\n",
       "      <td>355.00000</td>\n",
       "      <td>10.000000</td>\n",
       "      <td>52.400181</td>\n",
       "      <td>16.429233</td>\n",
       "    </tr>\n",
       "  </tbody>\n",
       "</table>\n",
       "</div>"
      ],
      "text/plain": [
       "       additional_number_of_scoring  average_score  \\\n",
       "count                 386803.000000  386803.000000   \n",
       "mean                     498.246536       8.397231   \n",
       "std                      500.258012       0.547881   \n",
       "min                        1.000000       5.200000   \n",
       "25%                      169.000000       8.100000   \n",
       "50%                      342.000000       8.400000   \n",
       "75%                      660.000000       8.800000   \n",
       "max                     2682.000000       9.800000   \n",
       "\n",
       "       review_total_negative_word_counts  total_number_of_reviews  \\\n",
       "count                      386803.000000            386803.000000   \n",
       "mean                           18.538988              2743.992042   \n",
       "std                            29.703369              2316.457018   \n",
       "min                             0.000000                43.000000   \n",
       "25%                             2.000000              1161.000000   \n",
       "50%                             9.000000              2134.000000   \n",
       "75%                            23.000000              3613.000000   \n",
       "max                           408.000000             16670.000000   \n",
       "\n",
       "       review_total_positive_word_counts  \\\n",
       "count                      386803.000000   \n",
       "mean                           17.776985   \n",
       "std                            21.726141   \n",
       "min                             0.000000   \n",
       "25%                             5.000000   \n",
       "50%                            11.000000   \n",
       "75%                            22.000000   \n",
       "max                           395.000000   \n",
       "\n",
       "       total_number_of_reviews_reviewer_has_given  reviewer_score  \\\n",
       "count                                386803.00000   386803.000000   \n",
       "mean                                      7.17725        8.396906   \n",
       "std                                      11.05442        1.636090   \n",
       "min                                       1.00000        2.500000   \n",
       "25%                                       1.00000        7.500000   \n",
       "50%                                       3.00000        8.800000   \n",
       "75%                                       8.00000        9.600000   \n",
       "max                                     355.00000       10.000000   \n",
       "\n",
       "                 lat            lng  \n",
       "count  384355.000000  384355.000000  \n",
       "mean       49.443522       2.823402  \n",
       "std         3.466936       4.579043  \n",
       "min        41.328376      -0.369758  \n",
       "25%        48.214662      -0.143649  \n",
       "50%        51.499981      -0.000250  \n",
       "75%        51.516288       4.834443  \n",
       "max        52.400181      16.429233  "
      ]
     },
     "execution_count": 14,
     "metadata": {},
     "output_type": "execute_result"
    }
   ],
   "source": [
    "hotels.describe()"
   ]
  },
  {
   "cell_type": "markdown",
   "metadata": {},
   "source": [
    "# Удаляем дубликаты"
   ]
  },
  {
   "cell_type": "code",
   "execution_count": 214,
   "metadata": {},
   "outputs": [
    {
     "name": "stdout",
     "output_type": "stream",
     "text": [
      "Число найденных дубликатов: 386803\n",
      "Число найденных дубликатов: 307\n",
      "Результирующее число записей: 386496\n"
     ]
    }
   ],
   "source": [
    "dupl_columns = list(hotels.columns)\n",
    "\n",
    "print(f'Число найденных дубликатов: {hotels.shape[0]}')\n",
    "\n",
    "mask = hotels.duplicated( subset = dupl_columns )\n",
    "hh_duplicates = hotels[mask]\n",
    "print(f'Число найденных дубликатов: {hh_duplicates.shape[0]}')\n",
    "#307\n",
    "\n",
    "hotels.drop_duplicates(subset = dupl_columns, inplace = True)\n",
    "print(f'Результирующее число записей: {hotels.shape[0]}')\n",
    "#386496\n"
   ]
  },
  {
   "cell_type": "markdown",
   "metadata": {},
   "source": [
    "# Анализируем пропуски"
   ]
  },
  {
   "cell_type": "code",
   "execution_count": 215,
   "metadata": {},
   "outputs": [
    {
     "data": {
      "text/plain": [
       "lat    0.633383\n",
       "lng    0.633383\n",
       "dtype: float64"
      ]
     },
     "metadata": {},
     "output_type": "display_data"
    }
   ],
   "source": [
    "# Печатает поля с null признаками\n",
    "def get_nulls_fiels(df):\n",
    "    cols_null_percent = df.isnull().mean() * 100\n",
    "    cols_with_null = cols_null_percent[cols_null_percent > 0].sort_values( ascending = False )\n",
    "    display(cols_with_null)\n",
    "    \n",
    "get_nulls_fiels( hotels )"
   ]
  },
  {
   "cell_type": "markdown",
   "metadata": {},
   "source": [
    "### Заполним медианным значением того города, в котором признак заполнен. Так не придется использовать geocoder"
   ]
  },
  {
   "cell_type": "code",
   "execution_count": 216,
   "metadata": {},
   "outputs": [
    {
     "name": "stdout",
     "output_type": "stream",
     "text": [
      "Заполняю признак lng == null медианой: {'Barcelona Spain': 2.1696699, 'Paris France': 2.328075, 'Vienna Austria': 16.3686397}\n",
      "Заполняю признак lat == null медианой: {'Barcelona Spain': 41.388024, 'Paris France': 48.8671391, 'Vienna Austria': 48.2044655}\n"
     ]
    }
   ],
   "source": [
    "# Выкусываем 2 последних слова.Это страна и город (с небольшим исключением, но для пропущенных данных справедливо)\n",
    "hotels[\"town\"] = hotels[\"hotel_address\"].apply( lambda x: ' '.join( x.split()[-2:] ) )\n",
    "\n",
    "# Колонки с null\n",
    "col_null = [\"lng\", \"lat\"]\n",
    "\n",
    "dict_col_not_null = dict()\n",
    "for col in col_null:\n",
    "    # Из строк с coll == null получим список стран и городов\n",
    "    arr = hotels[hotels[col].isnull()].loc[:,\"town\"].unique()\n",
    "    # Получим медианы найденных городов и стран с заполненными колонками\n",
    "    dict_median = hotels[hotels['town'].isin(arr) & hotels[col].notnull()].groupby( [\"town\"] )[col].median().to_dict()\n",
    "    print( f\"Заполняю признак {col} == null медианой: {dict_median}\" )\n",
    "    hotels[col] = hotels.apply( lambda x: dict_median.get( x[\"town\"] ) if pd.isnull( x[col] ) else x[col], axis=1 )\n",
    "\n",
    "# Поле более не нужно\n",
    "hotels.drop( \"town\", axis=1, inplace=True )"
   ]
  },
  {
   "cell_type": "code",
   "execution_count": 217,
   "metadata": {},
   "outputs": [
    {
     "data": {
      "text/plain": [
       "Series([], dtype: float64)"
      ]
     },
     "metadata": {},
     "output_type": "display_data"
    }
   ],
   "source": [
    "get_nulls_fiels( hotels )\n",
    "# Пропусков нет"
   ]
  },
  {
   "cell_type": "markdown",
   "metadata": {},
   "source": [
    "# Создаем/модифицируем признаки"
   ]
  },
  {
   "cell_type": "markdown",
   "metadata": {},
   "source": [
    "### days_since_review"
   ]
  },
  {
   "cell_type": "code",
   "execution_count": 218,
   "metadata": {},
   "outputs": [],
   "source": [
    "# Выкусываем число дней\n",
    "hotels[\"days_since_review\"] = hotels[\"days_since_review\"].apply( lambda x: re.sub('[^0-9]', '', x )).astype(int)"
   ]
  },
  {
   "cell_type": "markdown",
   "metadata": {},
   "source": [
    "### review_date"
   ]
  },
  {
   "cell_type": "code",
   "execution_count": 219,
   "metadata": {},
   "outputs": [],
   "source": [
    "# Из строки дам создаем признаки дня, месяца и года\n",
    "hotels['review_date'] =  pd.to_datetime(hotels['review_date'], dayfirst=False,yearfirst=False)\n",
    "hotels[\"review_date_year\"] = hotels[\"review_date\"].dt.year\n",
    "hotels[\"review_date_month\"] = hotels[\"review_date\"].dt.month\n",
    "hotels[\"review_date_day\"] = hotels[\"review_date\"].dt.day\n",
    "hotels['review_date'] =  hotels[\"review_date\"].dt.year * 365 + hotels[\"review_date\"].dt.month * 12 + hotels[\"review_date\"].dt.day\n"
   ]
  },
  {
   "cell_type": "code",
   "execution_count": 144,
   "metadata": {},
   "outputs": [
    {
     "data": {
      "text/plain": [
       "<Axes: >"
      ]
     },
     "execution_count": 144,
     "metadata": {},
     "output_type": "execute_result"
    },
    {
     "data": {
      "image/png": "[encoded data removed]",
      "text/plain": [
       "<Figure size 640x480 with 2 Axes>"
      ]
     },
     "metadata": {},
     "output_type": "display_data"
    }
   ],
   "source": [
    "# Сразу проверим на корреляцию пару полей review_date (и производные) и days_since_review. По смыслу схожи\n",
    "sns.heatmap(hotels[['review_date',\"days_since_review\"]].corr(numeric_only=True).round(1), annot=True)"
   ]
  },
  {
   "cell_type": "code",
   "execution_count": 220,
   "metadata": {},
   "outputs": [],
   "source": [
    "# Удалим колонки. 3 признака из них мы уже создали\n",
    "hotels.drop( ['review_date','days_since_review'], axis=1, inplace=True )"
   ]
  },
  {
   "cell_type": "code",
   "execution_count": 221,
   "metadata": {},
   "outputs": [
    {
     "name": "stdout",
     "output_type": "stream",
     "text": [
      "hotel_address                                  0.386291\n",
      "additional_number_of_scoring                   0.124193\n",
      "average_score                                  0.008797\n",
      "hotel_name                                     0.386032\n",
      "reviewer_nationality                           0.058215\n",
      "negative_review                               64.380485\n",
      "review_total_negative_word_counts              0.104011\n",
      "total_number_of_reviews                        0.295475\n",
      "positive_review                               80.657238\n",
      "review_total_positive_word_counts              0.091592\n",
      "total_number_of_reviews_reviewer_has_given     0.050195\n",
      "reviewer_score                                 0.009573\n",
      "tags                                          12.195469\n",
      "lat                                            0.380858\n",
      "lng                                            0.380858\n",
      "review_date_year                               0.000776\n",
      "review_date_month                              0.003105\n",
      "review_date_day                                0.008021\n",
      "dtype: float64\n"
     ]
    }
   ],
   "source": [
    "# Оценим процент уникальных полей\n",
    "def get_percent_unique( df ):\n",
    "    print( hotels.nunique() * 100 / hotels.shape[0] )\n",
    "    \n",
    "get_percent_unique( hotels )"
   ]
  },
  {
   "cell_type": "markdown",
   "metadata": {},
   "source": [
    "### hotel_name - Категориальный номинальный признак => Binary coding"
   ]
  },
  {
   "cell_type": "code",
   "execution_count": 222,
   "metadata": {},
   "outputs": [],
   "source": [
    "cols = ['hotel_name']\n",
    "\n",
    "bin_encoder = ce.BinaryEncoder(cols=cols) # указываем столбец для кодирования\n",
    "type_bin = bin_encoder.fit_transform(hotels[cols])\n",
    "hotels = pd.concat([hotels, type_bin], axis=1)"
   ]
  },
  {
   "cell_type": "markdown",
   "metadata": {},
   "source": [
    "### Разбор признаков positive_review, negative_review. Используем меру tf-idf для оценки важности слова в контексте документа\n"
   ]
  },
  {
   "cell_type": "code",
   "execution_count": 223,
   "metadata": {},
   "outputs": [],
   "source": [
    "# Чистим от спец знаков\n",
    "hotels[\"positive_review\"] = hotels[\"positive_review\"].apply( lambda x: re.sub( r'[^a-zA-Z0-9а-яА-Я]', ' ', x ).strip().lower() + ' ' )\n",
    "hotels[\"negative_review\"] = hotels[\"negative_review\"].apply( lambda x: re.sub( r'[^a-zA-Z0-9а-яА-Я]', ' ', x ).strip().lower() + ' ' )\n",
    "\n",
    "# Группируем данные по отелям\n",
    "df_grp_pos = hotels.groupby( \"hotel_name\" )[\"positive_review\"].sum().reset_index()\n",
    "df_grp_neg = hotels.groupby( \"hotel_name\" )[\"negative_review\"].sum().reset_index()"
   ]
  },
  {
   "cell_type": "markdown",
   "metadata": {},
   "source": [
    "### Функции для экономной версии tf-idf"
   ]
  },
  {
   "cell_type": "code",
   "execution_count": 224,
   "metadata": {},
   "outputs": [],
   "source": [
    "#############################################################################################################\n",
    "#\n",
    "# Вход: Строка текста\n",
    "# Выход: Список слов 3х и более знаков и не среди списка слов-исключений. Буквы на спец символы не проверяются\n",
    "# Пример: 'There are apples where while and black.' ==> ['there', 'are', 'apples', 'while', 'black.']\n",
    "#\n",
    "#############################################################################################################\n",
    "def parse_msg( msg ):\n",
    "    # На всякий случай - исключим эти слова из рейтингов\n",
    "    words_excl = [\n",
    "        \"the\",\n",
    "        \"and\",\n",
    "        \"was\",\n",
    "        \"are\",\n",
    "        \"where\",\n",
    "        \"for\"\n",
    "    ]      \n",
    "        \n",
    "    # Возвращает True, если слово длинее 2х знаков и не в списке исключений\n",
    "    def flt_words( x ):\n",
    "        return len( x ) > 2 and x not in words_excl    \n",
    "    \n",
    "    words = filter( lambda x: flt_words( x ), msg.lower().split() )\n",
    "    return list( filter( lambda x: x.strip() , words ) )\n",
    "\n",
    "\n",
    "#############################################################################################################\n",
    "# Возвращает число - суммарный каждого слова сообщения рейтинг по метрике tf-idf \n",
    "#\n",
    "# Вход: Строка текста\n",
    "#    msg - Строка текста\n",
    "#    grp - Код группы, к которой относится сообщение\n",
    "#    arr_df_idf - Список групп (пкз): в каждой из которых в вычисленный рейтинг слова по метрике tf-idf\n",
    "#    dict_words_by_name - словарь слов, ключ - слово { \"Слово 1\": 0, \"Слово 2\": 1 }\n",
    "#    dict_grp_by_name - словарь групп ключ - название группы { \"Группа 1\": 0, \"Группа 2\": 1 }\n",
    "#\n",
    "# Выход - Число, суммарный рейтинг сообщения \n",
    "# Пример: \n",
    "#\n",
    "#############################################################################################################\n",
    "def calc_rating_msg( msg, grp, arr_df_idf, dict_words_by_name, dict_grp_by_name ):\n",
    "    words = parse_msg( msg )\n",
    "    rating = 0\n",
    "    for word in words:\n",
    "        rating += arr_df_idf[dict_words_by_name[word][0]][dict_grp_by_name[grp][0]]         \n",
    "    return rating\n",
    "\n",
    "\n",
    "#############################################################################################################\n",
    "# Создает справочники групп и слов \n",
    "#\n",
    "# Вход: Строка текста\n",
    "#    df - Датафрейм с сообщением\n",
    "#    col_grp - Поле группы\n",
    "#    col_text - Поле текста\n",
    "#\n",
    "# Выход - tuple с 4мя справочниками преобразований кода в слово или категорию и обратно (dict_words_by_name, dict_grp_by_name, dict_words_by_id, dict_grp_by_id)\n",
    "#    \n",
    "#    dict_words_by_name - Словарь отображения слова в tuple(идентификатор слова, количество повторений в полном датафрейме)\n",
    "#    dict_grp_by_name - Словарь отображения названия группы в tuple(идентификатор групп, количество слов в группе)\n",
    "#    dict_words_by_id - Словарь отображения идентификатора слова в слово: tuple(слово, количество повторений слов в датафрейме)\n",
    "#    dict_grp_by_id - Словарь отображения идентификатора группы в название: tuple (название, количество слов в группе)\n",
    "#    \n",
    "#    \n",
    "#############################################################################################################\n",
    "def id_idf_make_dict( df, col_grp, col_text ):\n",
    "    # Словарь слов\n",
    "    dict_grp_by_name = {}\n",
    "    dict_words_by_name = {}\n",
    "    dict_grp_by_id = {}\n",
    "    dict_words_by_id = {}\n",
    "    ind_word = 0\n",
    "\n",
    "    for index, row in df.iterrows():\n",
    "        grp = row[col_grp] # Название группы\n",
    "\n",
    "        # Получим список слов\n",
    "        tmp_lst = parse_msg( row[col_text] )\n",
    "        \n",
    "        # Извлекаем слово из строки\n",
    "        for word in tmp_lst:\n",
    "            # Обновим частота слов по всем группам\n",
    "            if word not in dict_words_by_name:\n",
    "                dict_words_by_name[word] = (ind_word,1)\n",
    "                dict_words_by_id[dict_words_by_name[word][0]] = (word,1)\n",
    "            else:\n",
    "                dict_words_by_name[word] = (dict_words_by_name[word][0], dict_words_by_name[word][1] + 1)  \n",
    "                dict_words_by_id[dict_words_by_name[word][0]] = (dict_words_by_id[dict_words_by_name[word][0]][0], dict_words_by_id[dict_words_by_name[word][0]][1] + 1)\n",
    "            \n",
    "            ind_word = ind_word + 1\n",
    "         \n",
    "        # Количество слов в группе\n",
    "        dict_grp_by_name[grp] = ( index, len( tmp_lst ) )\n",
    "        dict_grp_by_id[index] = ( grp, len( tmp_lst ) )\n",
    "        \n",
    "    return (dict_words_by_name, dict_grp_by_name, dict_words_by_id, dict_grp_by_id)\n",
    "\n",
    "#############################################################################################################\n",
    "# Создает словарь идентавикаторов групп, содержащих словарь идентификаторов слов и количества повторений в группе\n",
    "#\n",
    "# Вход: Строка текста\n",
    "#    df - Датафрейм с сообщением\n",
    "#    col_grp - Поле группы\n",
    "#    col_text - Поле текста\n",
    "#    dict_цщкв_by_name - Словарь отображения слова в идентификаторы (кодирование) \n",
    "#    dict_grp_by_name - Словарь отображения групп в идентификаторы (кодирование) \n",
    "#    dict_word_by_id - Словарь отображения идентификаторов слов в слова (декодирование) \n",
    "#    dict_grp_by_id - Словарь отображения идентификатора группы в название (декодирование) \n",
    "#\n",
    "# Выход: - словарь рейтингов с метрикой tf-idf\n",
    "#    words_rating = { ИД слова: {ИД группы: рейтинг}}\n",
    "#    \n",
    "#############################################################################################################\n",
    "def id_idf( df, col_grp, col_text, dict_words_by_name, dict_grp_by_name, dict_word_by_id, dict_grp_by_id ):\n",
    "    print('---->> Старт')\n",
    "    # Словарь слов\n",
    "    dict_grp_words = {}\n",
    "    dict_words_grp = {}\n",
    "    words_rating = {}\n",
    "    arr_grp = []\n",
    "    cnt_groups = df.shape[0] # Экономим вычисления\n",
    "    \n",
    "    for index, row in df.iterrows():\n",
    "        grp = row[col_grp] # Название группы\n",
    "        grp_id = dict_grp_by_name[ grp ][0] # ID группы\n",
    "        arr_grp.append( grp_id ) # По этим ключам будем считать tf-idf\n",
    "        \n",
    "        # Список слов в группе\n",
    "        tmp_lst = list( map( lambda x: dict_words_by_name[x][0], parse_msg( row[col_text] )  ) )\n",
    "        # Список уникальных слов в группе\n",
    "        set_lst = list( set( tmp_lst ) )\n",
    "        \n",
    "        # Частота слов в группе (Nword,grp)\n",
    "        tmp_word_in_groups = {}\n",
    "        for word_id in set_lst:\n",
    "            tmp_word_in_groups[word_id] = tmp_lst.count( word_id )\n",
    "\n",
    "        dict_grp_words[grp_id] = tmp_word_in_groups\n",
    "    \n",
    "    # Подсчет количества групп, в которые входит слово { \"Слово 1\": 7, \"Слово 2\": 11, ...}\n",
    "    for word_id in dict_word_by_id:\n",
    "        for grp_id in dict_grp_words:\n",
    "            # Обновим частоты слов по всем группам\n",
    "            if word_id in dict_grp_words[grp_id]:\n",
    "                if word_id not in dict_words_grp:\n",
    "                    dict_words_grp[word_id] = 1\n",
    "                else:\n",
    "                    dict_words_grp[word_id] += 1  \n",
    "\n",
    "    # Словарь расчетов df-idf\n",
    "    for grp_id in arr_grp:\n",
    "        for word_id in dict_grp_words[grp_id]:\n",
    "            tf = dict_grp_words[grp_id][word_id] / dict_grp_by_id[grp_id][1]\n",
    "            idf = cnt_groups / dict_words_grp[word_id]\n",
    "            tf_idf = tf * log( idf )\n",
    "            if word_id not in words_rating:\n",
    "                words_rating[word_id] = {}\n",
    "            words_rating[word_id][grp_id] = tf_idf\n",
    "            #print( f\"word_id = {word_id}, grp_id = {grp_id}, tf = {tf}, idf = {idf}, Nw = {dict_grp_words[grp_id][word_id]}, N = {dict_grp_by_id[grp_id][1]}, Ngw = {dict_words_grp[word_id]}, Ng = {dict_words_grp[word_id]}, tf_idf = {tf_idf} \" )\n",
    "            \n",
    "    print('---->> Финиш')\n",
    "    return words_rating"
   ]
  },
  {
   "cell_type": "code",
   "execution_count": 25,
   "metadata": {},
   "outputs": [
    {
     "name": "stdout",
     "output_type": "stream",
     "text": [
      "---->> Старт\n",
      "---->> Финиш\n",
      "rating_words: {0: {1: 0.2772588722239781}, 1: {1: 0.0, 2: 0.0}, 2: {1: 0.13862943611198905}, 3: {1: 0.13862943611198905}, 4: {2: 0.23104906018664842}, 6: {2: 0.23104906018664842}}\n"
     ]
    }
   ],
   "source": [
    "############################### Тестовый образец данных для проверки интегральной версии оценки tf-idf\n",
    "#\n",
    "d = {'col_msg': [\"111 222 333 444 111\",\"222 555 777\"], 'col_grp': [\"row1\", \"row2\"]}\n",
    "df_test = pd.DataFrame(data=d)\n",
    "\n",
    "test_grp_by_name = {'row1': (1,5), 'row2':(2,3)}\n",
    "test_grp_by_id = {1:('row1',5), 2:('row2',3)}\n",
    "test_words_by_name = {'111':(0,1), '222':(1,2), '333':(2,1), '444':(3,1), '555':(4,1), '777':(6,1)}\n",
    "test_words_by_id = {0:('111',1), 1:('222',2), 2:('333',1), 3:('444',1),4:('555',1),6:('777',1)}\n",
    "\n",
    "rating_words = id_idf( df_test, \"col_grp\", \"col_msg\", test_words_by_name,test_grp_by_name,test_words_by_id,test_grp_by_id )\n",
    "print( f\"rating_words: {rating_words}\" )\n"
   ]
  },
  {
   "cell_type": "markdown",
   "metadata": {},
   "source": [
    "### Готовим словари"
   ]
  },
  {
   "cell_type": "code",
   "execution_count": 225,
   "metadata": {},
   "outputs": [],
   "source": [
    "dict_words_by_name_pos, dict_grp_by_name_pos, dict_words_by_id_pos, dict_grp_by_id_pos = id_idf_make_dict( df_grp_pos, \"hotel_name\", \"positive_review\" )  \n",
    "dict_words_by_name_neg, dict_grp_by_name_neg, dict_words_by_id_neg, dict_grp_by_id_neg = id_idf_make_dict( df_grp_neg, \"hotel_name\", \"negative_review\" )  "
   ]
  },
  {
   "cell_type": "code",
   "execution_count": 226,
   "metadata": {},
   "outputs": [
    {
     "name": "stdout",
     "output_type": "stream",
     "text": [
      "Вычисляем значимость слов из признака positive_review\n",
      "---->> Старт\n",
      "---->> Финиш\n",
      "\n",
      "Вычисляем значимость слов из признака negative_review\n",
      "---->> Старт\n",
      "---->> Финиш\n",
      "\n",
      "Добавляем рейтинги отзывов positive_review, negative_review\n"
     ]
    }
   ],
   "source": [
    "print( 'Вычисляем значимость слов из признака positive_review' )\n",
    "rating_words_pos = id_idf( df_grp_pos, \"hotel_name\", \"positive_review\", dict_words_by_name_pos, dict_grp_by_name_pos, dict_words_by_id_pos, dict_grp_by_id_pos )\n",
    "\n",
    "print()\n",
    "print( 'Вычисляем значимость слов из признака negative_review' )\n",
    "rating_words_neg = id_idf( df_grp_neg, \"hotel_name\", \"negative_review\", dict_words_by_name_neg, dict_grp_by_name_neg, dict_words_by_id_neg, dict_grp_by_id_neg )\n",
    "\n",
    "print()\n",
    "print( 'Добавляем рейтинги отзывов positive_review, negative_review' )\n",
    "hotels[\"positive_review_rating\"] = hotels.apply( lambda x: calc_rating_msg( x[\"positive_review\"], x[\"hotel_name\"], rating_words_pos, dict_words_by_name_pos, dict_grp_by_name_pos ), axis=1 )\n",
    "hotels[\"negative_review_rating\"] = hotels.apply( lambda x: calc_rating_msg( x[\"negative_review\"], x[\"hotel_name\"], rating_words_neg, dict_words_by_name_neg, dict_grp_by_name_neg ), axis=1 )\n",
    "\n"
   ]
  },
  {
   "cell_type": "markdown",
   "metadata": {},
   "source": [
    "### Добавим  top 10 слов из позитивной и негативной оценок"
   ]
  },
  {
   "cell_type": "code",
   "execution_count": 227,
   "metadata": {},
   "outputs": [
    {
     "name": "stdout",
     "output_type": "stream",
     "text": [
      "Добавлены поля\n",
      "['staff', 'very', 'location', 'room', 'hotel', 'good', 'great', 'were', 'friendly', 'breakfast']\n",
      "['room', 'negative', 'not', 'very', 'but', 'hotel', 'were', 'had', 'that', 'breakfast']\n"
     ]
    }
   ],
   "source": [
    "# top 10 слов\n",
    "top_cnt = 10\n",
    "words_add_pos = list( dict( sorted( dict_words_by_name_pos.items(), key = lambda x: x[1][1], reverse=True )[:top_cnt] ).keys() )\n",
    "words_add_neg = list( dict( sorted( dict_words_by_name_neg.items(), key = lambda x: x[1][1], reverse=True )[:top_cnt] ).keys() )\n",
    "\n",
    "list_add_words = [words_add_pos,words_add_neg]\n",
    "\n",
    "for word in words_add_pos:\n",
    "    hotels[word + '_pos'] = hotels[\"positive_review\"].apply( lambda x: 1 if word in x else 0 )\n",
    "    \n",
    "for word in words_add_neg:\n",
    "    hotels[word + '_neg'] = hotels[\"negative_review\"].apply( lambda x: 1 if word in x else 0 )\n",
    "\n",
    "print( \"Добавлены поля\" )\n",
    "print( words_add_pos )\n",
    "print( words_add_neg )"
   ]
  },
  {
   "cell_type": "code",
   "execution_count": 228,
   "metadata": {},
   "outputs": [
    {
     "data": {
      "text/plain": [
       "141977"
      ]
     },
     "execution_count": 228,
     "metadata": {},
     "output_type": "execute_result"
    }
   ],
   "source": [
    "# Проверим частоту (что заполнилось)\n",
    "hotels[hotels[\"positive_review\"].str.contains( words_add_pos[0])].shape[0]"
   ]
  },
  {
   "cell_type": "markdown",
   "metadata": {},
   "source": [
    "### Разбор признаков hotel_address"
   ]
  },
  {
   "cell_type": "markdown",
   "metadata": {},
   "source": [
    "- Вытягиваем страны из признака и заносим в новый признак $country$\n",
    "- Выкусываем страны из строки признака hotel_address"
   ]
  },
  {
   "cell_type": "code",
   "execution_count": 229,
   "metadata": {},
   "outputs": [
    {
     "name": "stdout",
     "output_type": "stream",
     "text": [
      "Empty DataFrame\n",
      "Columns: [hotel_address, additional_number_of_scoring, average_score, hotel_name, reviewer_nationality, negative_review, review_total_negative_word_counts, total_number_of_reviews, positive_review, review_total_positive_word_counts, total_number_of_reviews_reviewer_has_given, reviewer_score, tags, lat, lng, review_date_year, review_date_month, review_date_day, hotel_name_0, hotel_name_1, hotel_name_2, hotel_name_3, hotel_name_4, hotel_name_5, hotel_name_6, hotel_name_7, hotel_name_8, hotel_name_9, hotel_name_10, positive_review_rating, negative_review_rating, staff_pos, very_pos, location_pos, room_pos, hotel_pos, good_pos, great_pos, were_pos, friendly_pos, breakfast_pos, room_neg, negative_neg, not_neg, very_neg, but_neg, hotel_neg, were_neg, had_neg, that_neg, breakfast_neg, country]\n",
      "Index: []\n",
      "\n",
      "[0 rows x 52 columns]\n",
      "0.0\n"
     ]
    }
   ],
   "source": [
    "#https://geo.koltyrin.ru/eng_countries_of_the_world.php\n",
    "#https://worldostats.com/countries/\n",
    "\n",
    "def get_counryes():\n",
    "    from bs4 import BeautifulSoup # Импортируем библиотеку BeautifulSoup\n",
    "\n",
    "    url = 'https://worldostats.com/countries/' # Страница стран\n",
    "    response = requests.get(url)  # Выполняем GET-запрос\n",
    "    soup = BeautifulSoup(response.text, 'html.parser') # Создаём объект BeautifulSoup, указывая html-парсер\n",
    "\n",
    "    countres = []\n",
    "\n",
    "    lines = soup.find_all( 'td' ) # Таблицы стран\n",
    "    for items in lines[ : ]: \n",
    "        item = items.find( 'a' ) # Затем до ячейки с тэгом <a>\n",
    "        if item: # После 16 элемента идет не нужная нам информация\n",
    "            countres.append( item.text ) # Сразу заключаем в одинарные ковычки город \n",
    "            \n",
    "    return countres\n",
    "\n",
    "def find_in_arr( s, lst ):\n",
    "    for item in lst:\n",
    "        if item in s:\n",
    "            return item\n",
    "    return \"\"\n",
    "    \n",
    "countres = get_counryes()  \n",
    "\n",
    "# Новый признак\n",
    "hotels[\"country\"] = hotels[\"hotel_address\"].apply( lambda x: find_in_arr( x, countres ) )\n",
    "# Выкусываем страны\n",
    "hotels[\"hotel_address\"] = hotels.apply( lambda x: x[\"hotel_address\"].replace( x[\"country\"], '' ), axis=1 )\n",
    "\n",
    "# Проверим, что все нормально\n",
    "print( hotels[hotels[\"country\"] == \"\"] )\n",
    "print( hotels[\"country\"].isnull().mean() )"
   ]
  },
  {
   "cell_type": "markdown",
   "metadata": {},
   "source": [
    "### Новый признак country - категориальный номинальный, стран мало => OneHotEncoder"
   ]
  },
  {
   "cell_type": "code",
   "execution_count": 230,
   "metadata": {},
   "outputs": [],
   "source": [
    "cols = ['country']\n",
    "\n",
    "# Однократное кодирование\n",
    "bin_encoder = ce.OneHotEncoder(cols=cols, use_cat_names=True) # указываем столбец для кодирования\n",
    "type_bin = bin_encoder.fit_transform(hotels[cols])\n",
    "hotels = pd.concat([hotels, type_bin], axis=1)"
   ]
  },
  {
   "cell_type": "code",
   "execution_count": 231,
   "metadata": {},
   "outputs": [
    {
     "name": "stderr",
     "output_type": "stream",
     "text": [
      "C:\\Users\\user\\AppData\\Local\\Temp\\ipykernel_17256\\2234998633.py:10: UserWarning: set_ticklabels() should only be used with a fixed number of ticks, i.e. after set_ticks() or using a FixedLocator.\n",
      "  ax.set_xticklabels(arr_labels)\n"
     ]
    },
    {
     "data": {
      "image/png": "[encoded data removed]",
      "text/plain": [
       "<Figure size 1000x500 with 1 Axes>"
      ]
     },
     "metadata": {},
     "output_type": "display_data"
    }
   ],
   "source": [
    "# Посмотрим в целом \n",
    "pivot_season = hotels[['country','reviewer_score']].groupby('country').mean()\n",
    "arr_labels = sorted( hotels['country'].unique() )\n",
    "fig, ax = plt.subplots(figsize=(10, 5))\n",
    "plt.suptitle('Средняя оценка резидента в зависимости от страны')\n",
    "season = sns.barplot(\n",
    "    x=pivot_season.index, \n",
    "    y=pivot_season[ 'reviewer_score' ]\n",
    ")\n",
    "ax.set_xticklabels(arr_labels)\n",
    "\n",
    "for p in season.patches:\n",
    "    season.annotate('{:.2f}'.format(p.get_height()), (p.get_x()+0.4, p.get_height()), ha='center', va='bottom', fontsize=20)\n",
    "\n",
    "plt.ylim(8, 9);"
   ]
  },
  {
   "cell_type": "code",
   "execution_count": 187,
   "metadata": {},
   "outputs": [
    {
     "data": {
      "text/plain": [
       "country\n",
       "United Kingdom    196773\n",
       "Spain              44643\n",
       "France             44528\n",
       "Netherlands        43004\n",
       "Austria            29177\n",
       "Italy              27882\n",
       "Nicaragua            292\n",
       "Palau                197\n",
       "Name: count, dtype: int64"
      ]
     },
     "execution_count": 187,
     "metadata": {},
     "output_type": "execute_result"
    }
   ],
   "source": [
    "# Проверим\n",
    "hotels[\"country\"].value_counts()"
   ]
  },
  {
   "cell_type": "code",
   "execution_count": 232,
   "metadata": {},
   "outputs": [
    {
     "name": "stdout",
     "output_type": "stream",
     "text": [
      "2\n"
     ]
    }
   ],
   "source": [
    "hotels[\"reviewer_nationality\"] = hotels[\"reviewer_nationality\"].apply( lambda x: x.strip() )\n",
    "hotels['is_resident'] = hotels.apply(lambda row: 1 if row['reviewer_nationality'] == row['country'] else 0, axis=1)\n",
    "\n",
    "print(hotels['is_resident'].nunique()) # для проверки, количество полученных уникальных значений признака"
   ]
  },
  {
   "cell_type": "markdown",
   "metadata": {},
   "source": [
    "- Вытягиваем города из признака и заносим в новый признак $town$\n",
    "- Выкусываем города из строки признака hotel_address"
   ]
  },
  {
   "cell_type": "code",
   "execution_count": 233,
   "metadata": {},
   "outputs": [
    {
     "name": "stdout",
     "output_type": "stream",
     "text": [
      "Empty DataFrame\n",
      "Columns: [hotel_address, additional_number_of_scoring, average_score, hotel_name, reviewer_nationality, negative_review, review_total_negative_word_counts, total_number_of_reviews, positive_review, review_total_positive_word_counts, total_number_of_reviews_reviewer_has_given, reviewer_score, tags, lat, lng, review_date_year, review_date_month, review_date_day, hotel_name_0, hotel_name_1, hotel_name_2, hotel_name_3, hotel_name_4, hotel_name_5, hotel_name_6, hotel_name_7, hotel_name_8, hotel_name_9, hotel_name_10, positive_review_rating, negative_review_rating, staff_pos, very_pos, location_pos, room_pos, hotel_pos, good_pos, great_pos, were_pos, friendly_pos, breakfast_pos, room_neg, negative_neg, not_neg, very_neg, but_neg, hotel_neg, were_neg, had_neg, that_neg, breakfast_neg, country, country_United Kingdom, country_France, country_Netherlands, country_Italy, country_Austria, country_Spain, country_Nicaragua, country_Palau, is_resident, town]\n",
      "Index: []\n",
      "\n",
      "[0 rows x 62 columns]\n",
      "0.0\n"
     ]
    }
   ],
   "source": [
    "# Возвращает список городов из сайта\n",
    "def get_towns():\n",
    "    from bs4 import BeautifulSoup # Импортируем библиотеку BeautifulSoup\n",
    "\n",
    "    url = 'https://worldpopulationreview.com/cities/' # Страница стран\n",
    "    response = requests.get(url)  # Выполняем GET-запрос\n",
    "    soup = BeautifulSoup(response.text, 'html.parser') # Создаём объект BeautifulSoup, указывая html-парсер\n",
    "\n",
    "    towns = []\n",
    "\n",
    "    lines = soup.find_all( 'td' ) # Таблицы городав\n",
    "    for items in lines[ : ]: \n",
    "        #print(items)\n",
    "        item = items.find( 'a' ) # Затем до ячейки с тэгом <a>\n",
    "        if item : # После 16 элемента идет не нужная нам информация\n",
    "            if len(item.text.lower()) > 3:\n",
    "                towns.append( ' '.join( item.text.split() ) ) # Сразу заключаем в одинарные ковычки город \n",
    "            \n",
    "    return towns\n",
    "\n",
    "towns = get_towns()\n",
    "\n",
    "# Новый признак\n",
    "hotels[\"town\"] = hotels[\"hotel_address\"].apply( lambda x: find_in_arr( x, towns ) )\n",
    "# Выкусываем город из hotel_address\n",
    "hotels[\"hotel_address\"] = hotels.apply( lambda x: x[\"hotel_address\"].replace( x[\"town\"], '' ), axis=1 )\n",
    "\n",
    "# Проверим, что все нормально\n",
    "print( hotels[hotels[\"town\"] == \"\"] )\n",
    "print( hotels[\"town\"].isnull().mean() )"
   ]
  },
  {
   "cell_type": "code",
   "execution_count": 235,
   "metadata": {},
   "outputs": [
    {
     "name": "stderr",
     "output_type": "stream",
     "text": [
      "C:\\Users\\user\\AppData\\Local\\Temp\\ipykernel_17256\\347701078.py:10: UserWarning: set_ticklabels() should only be used with a fixed number of ticks, i.e. after set_ticks() or using a FixedLocator.\n",
      "  ax.set_xticklabels(arr_labels)\n"
     ]
    },
    {
     "data": {
      "image/png": "[encoded data removed]",
      "text/plain": [
       "<Figure size 1500x500 with 1 Axes>"
      ]
     },
     "metadata": {},
     "output_type": "display_data"
    }
   ],
   "source": [
    "# Посмотрим в целом \n",
    "pivot_season = hotels[['town','reviewer_score']].groupby('town').mean()\n",
    "arr_labels = sorted( hotels['town'].unique() )\n",
    "fig, ax = plt.subplots(figsize=(15, 5))\n",
    "plt.suptitle('Средняя оценка резидента в зависимости от города')\n",
    "season = sns.barplot(\n",
    "    x=pivot_season.index, \n",
    "    y=pivot_season[ 'reviewer_score' ]\n",
    ")\n",
    "ax.set_xticklabels(arr_labels)\n",
    "\n",
    "for p in season.patches:\n",
    "    season.annotate('{:.2f}'.format(p.get_height()), (p.get_x()+0.4, p.get_height()), ha='center', va='bottom', fontsize=20)\n",
    "\n",
    "plt.ylim(8, 9);"
   ]
  },
  {
   "cell_type": "code",
   "execution_count": 192,
   "metadata": {},
   "outputs": [
    {
     "data": {
      "text/plain": [
       "town\n",
       "London            196773\n",
       "Barcelona          44643\n",
       "Paris              44479\n",
       "Amsterdam          42725\n",
       "Vienna             29177\n",
       "Milan              26768\n",
       "Buenos Aires         630\n",
       "Spain                489\n",
       "Lima                 448\n",
       "Panama               279\n",
       "Mexico                49\n",
       "Rio de Janeiro        36\n",
       "Name: count, dtype: int64"
      ]
     },
     "execution_count": 192,
     "metadata": {},
     "output_type": "execute_result"
    }
   ],
   "source": [
    "# Проверим\n",
    "hotels[\"town\"].value_counts()"
   ]
  },
  {
   "cell_type": "markdown",
   "metadata": {},
   "source": [
    "### Новый признак town - категориальный номинальный, городов мало => OneHotEncoder"
   ]
  },
  {
   "cell_type": "code",
   "execution_count": 236,
   "metadata": {},
   "outputs": [],
   "source": [
    "cols = ['town']\n",
    "\n",
    "# Кодируем бинарено\n",
    "bin_encoder = ce.OneHotEncoder(cols=cols, use_cat_names=True) # указываем столбец для кодирования\n",
    "type_bin = bin_encoder.fit_transform(hotels[cols])\n",
    "hotels = pd.concat([hotels, type_bin], axis=1)"
   ]
  },
  {
   "cell_type": "code",
   "execution_count": 237,
   "metadata": {},
   "outputs": [],
   "source": [
    "hotels.drop(['town',\"hotel_address\",'country'],axis=1,inplace=True)"
   ]
  },
  {
   "cell_type": "markdown",
   "metadata": {},
   "source": [
    "### reviewer_nationality - категориальный номинальный признак, стран мало => OneHotEncoder"
   ]
  },
  {
   "cell_type": "code",
   "execution_count": 238,
   "metadata": {},
   "outputs": [],
   "source": [
    "cols = ['reviewer_nationality']\n",
    "\n",
    "bin_encoder = ce.OneHotEncoder(cols=cols, use_cat_names=True) # указываем столбец для кодирования\n",
    "type_bin = bin_encoder.fit_transform(hotels[cols])\n",
    "hotels = pd.concat([hotels, type_bin], axis=1)\n",
    "\n",
    "hotels.drop('reviewer_nationality',axis=1,inplace=True)"
   ]
  },
  {
   "cell_type": "markdown",
   "metadata": {},
   "source": [
    "### tags - берем из топ 50 оттелей тор 3 самых часто используемых тэгов\n"
   ]
  },
  {
   "cell_type": "code",
   "execution_count": 239,
   "metadata": {},
   "outputs": [
    {
     "name": "stdout",
     "output_type": "stream",
     "text": [
      "Добавлены признаки тэгов: 15 полей, ['Large Double Room', 'Deluxe Double', 'Double Hilton Guestroom', 'Double Room', 'Deluxe King or Twin Room', 'Submitted from a mobile device', 'Couple', 'Deluxe Double Room', 'Club Double Room', 'Leisure trip', 'Superior Double Room', 'Double Guest Room', 'Standard Double Room', 'Stayed 1 night', 'Standard Double or Twin Room']\n"
     ]
    }
   ],
   "source": [
    "tmp_df = hotels[[\"hotel_name\",\"tags\"]].copy()\n",
    "tmp_df[\"tags\"] = tmp_df[\"tags\"] + ', '\n",
    "\n",
    "lst_hotels_top = tmp_df.groupby( \"hotel_name\" )[\"tags\"].count().to_frame().nlargest(50,'tags').index.to_list()\n",
    "tmp_df = tmp_df[ tmp_df[\"hotel_name\"].isin( lst_hotels_top ) ].groupby( \"hotel_name\" )[\"tags\"].sum()\n",
    "\n",
    "list_tags_top = []\n",
    "for grp, tags in tmp_df.items():\n",
    "\n",
    "    tags = list( tags.replace( '] [', '],[' ).replace( '[', '' ).replace( ']', '' ).replace( \"'\", '' ).split(',') )\n",
    "    tags = list( map( lambda x: x.strip() , tags ))\n",
    "    tags_set = set( tags )\n",
    "    tmp_tags = list( map( lambda x: (x, tags.count(x)), tags_set ))\n",
    "    tmp_tags = list( map( lambda x: x[0], sorted( tmp_tags, key = lambda x: x[1], reverse=True )[:3] ))\n",
    "    list_tags_top += tmp_tags\n",
    "\n",
    "list_tags_top = list( set( list_tags_top ) )\n",
    "\n",
    "for tag in list_tags_top:\n",
    "    hotels[tag] = hotels[\"tags\"].apply( lambda x: 1 if tag in x else 0 )     \n",
    "    \n",
    "print( f\"Добавлены признаки тэгов: {len(list_tags_top)} полей, {list_tags_top}\" )\n",
    "hotels.drop( \"hotel_name\", axis=1, inplace=True )   "
   ]
  },
  {
   "cell_type": "code",
   "execution_count": 240,
   "metadata": {},
   "outputs": [],
   "source": [
    "# Сдвигаем равномерно в положительные значения\n",
    "min_lng = hotels[\"lng\"].min()\n",
    "hotels[\"lng\"] = hotels[\"lng\"] - min_lng"
   ]
  },
  {
   "cell_type": "markdown",
   "metadata": {},
   "source": [
    "# Анализ мультиколлинеарности"
   ]
  },
  {
   "cell_type": "code",
   "execution_count": 241,
   "metadata": {},
   "outputs": [
    {
     "name": "stdout",
     "output_type": "stream",
     "text": [
      "\n",
      "pearson\n",
      "---------------\n",
      "additional_number_of_scoring total_number_of_reviews 0.8\n",
      "lng country_Spain -0.8\n",
      "lng town_Barcelona -0.8\n",
      "review_date_year country_Austria 0.8\n",
      "review_date_year town_Vienna 0.8\n",
      "country_France town_London 1.0\n",
      "country_Netherlands town_Paris 1.0\n",
      "country_Italy town_Amsterdam 1.0\n",
      "country_Austria town_Milan 1.0\n",
      "country_Spain town_Vienna 1.0\n",
      "country_Nicaragua town_Barcelona 1.0\n",
      "country_Palau town_Spain 0.8\n",
      "Double Hilton Guestroom Deluxe Double Room 0.9\n",
      "\n",
      "spearman\n",
      "---------------\n",
      "additional_number_of_scoring total_number_of_reviews 0.9\n",
      "review_total_negative_word_counts negative_review_rating 0.9\n",
      "review_total_positive_word_counts positive_review_rating 0.8\n",
      "review_date_year country_United Kingdom -0.9\n",
      "review_date_year town_London -0.9\n",
      "country_France town_London 1.0\n",
      "country_Netherlands town_Paris 1.0\n",
      "country_Italy town_Amsterdam 1.0\n",
      "country_Austria town_Milan 1.0\n",
      "country_Spain town_Vienna 1.0\n",
      "country_Nicaragua town_Barcelona 1.0\n",
      "country_Palau town_Spain 0.8\n",
      "Double Hilton Guestroom Deluxe Double Room 0.9\n"
     ]
    }
   ],
   "source": [
    "methods = ['pearson','spearman']\n",
    "arr_corr_max = set()\n",
    "\n",
    "for method in methods:\n",
    "    arr_corr = hotels.corr( method = method, numeric_only=True ).round(1)\n",
    "    arr_cols = arr_corr.columns.to_list()\n",
    "    arr_cols.remove( 'reviewer_score' )\n",
    "    \n",
    "    print()\n",
    "    print( method )\n",
    "    print( \"---------------\" )\n",
    "\n",
    "    #print( type(arr_cols) )\n",
    "    for ind, col in enumerate( arr_cols ):\n",
    "        for ind1, col1 in enumerate( arr_cols[ind + 1:] ):\n",
    "            tmp = arr_corr.iloc[ind][col1]\n",
    "            if abs(tmp) > 0.7:\n",
    "                print( col, col1, tmp )\n",
    "                \n",
    "            if abs(tmp) > 0.99:\n",
    "                arr_corr_max.add( col1 )\n"
   ]
  },
  {
   "cell_type": "markdown",
   "metadata": {},
   "source": [
    "### Удаляем абсолютно связанные признаки (если есть)"
   ]
  },
  {
   "cell_type": "code",
   "execution_count": 242,
   "metadata": {},
   "outputs": [
    {
     "name": "stdout",
     "output_type": "stream",
     "text": [
      "Удаляем абсолютно связанные признаки: {'town_Amsterdam', 'town_Vienna', 'town_London', 'town_Milan', 'town_Barcelona', 'town_Paris'}\n"
     ]
    }
   ],
   "source": [
    "if len(arr_corr_max) > 0:\n",
    "    print( f\"Удаляем абсолютно связанные признаки: {arr_corr_max}\" )\n",
    "    hotels.drop( arr_corr_max, axis=1, inplace=True )\n",
    "else:\n",
    "    print( f\"Нет абсолютно связанных признаков\" )\n"
   ]
  },
  {
   "cell_type": "markdown",
   "metadata": {},
   "source": [
    "### Для многократного экспериментирования работаем с копией"
   ]
  },
  {
   "cell_type": "code",
   "execution_count": 243,
   "metadata": {},
   "outputs": [],
   "source": [
    "tmp_df_all = hotels.copy()"
   ]
  },
  {
   "cell_type": "code",
   "execution_count": 244,
   "metadata": {},
   "outputs": [],
   "source": [
    "# Удалим нечисловые поля\n",
    "object_columns = [s for s in tmp_df_all.columns if tmp_df_all[s].dtypes == 'object']\n",
    "tmp_df_all.drop(object_columns, axis = 1, inplace=True)"
   ]
  },
  {
   "cell_type": "markdown",
   "metadata": {},
   "source": [
    "### Удаляем неинформативные признаки (если есть)"
   ]
  },
  {
   "cell_type": "code",
   "execution_count": 245,
   "metadata": {},
   "outputs": [
    {
     "name": "stdout",
     "output_type": "stream",
     "text": [
      "country_Nicaragua: 99.92% одинаковых значений\n",
      "country_Palau: 99.95% одинаковых значений\n",
      "town_Panama: 99.93% одинаковых значений\n",
      "town_Buenos Aires: 99.84% одинаковых значений\n",
      "town_Lima: 99.88% одинаковых значений\n",
      "town_Spain: 99.87% одинаковых значений\n",
      "town_Rio de Janeiro: 99.99% одинаковых значений\n",
      "town_Mexico: 99.99% одинаковых значений\n",
      "reviewer_nationality_China: 99.34% одинаковых значений\n",
      "reviewer_nationality_Poland: 99.46% одинаковых значений\n",
      "reviewer_nationality_France: 98.57% одинаковых значений\n",
      "reviewer_nationality_Switzerland: 98.32% одинаковых значений\n",
      "reviewer_nationality_Bulgaria: 99.74% одинаковых значений\n",
      "reviewer_nationality_Lebanon: 99.56% одинаковых значений\n",
      "reviewer_nationality_United Arab Emirates: 98.03% одинаковых значений\n",
      "reviewer_nationality_South Africa: 99.25% одинаковых значений\n",
      "reviewer_nationality_Nigeria: 99.81% одинаковых значений\n",
      "reviewer_nationality_Sweden: 99.34% одинаковых значений\n",
      "reviewer_nationality_Hong Kong: 99.42% одинаковых значений\n",
      "reviewer_nationality_Luxembourg: 99.74% одинаковых значений\n",
      "reviewer_nationality_Netherlands: 98.29% одинаковых значений\n",
      "reviewer_nationality_Jersey: 99.83% одинаковых значений\n",
      "reviewer_nationality_Pakistan: 99.83% одинаковых значений\n",
      "reviewer_nationality_Mexico: 99.88% одинаковых значений\n",
      "reviewer_nationality_Italy: 98.82% одинаковых значений\n",
      "reviewer_nationality_Singapore: 99.4% одинаковых значений\n",
      "reviewer_nationality_Ireland: 97.12% одинаковых значений\n",
      "reviewer_nationality_Kuwait: 99.04% одинаковых значений\n",
      "reviewer_nationality_Bahrain: 99.69% одинаковых значений\n",
      "reviewer_nationality_Portugal: 99.64% одинаковых значений\n",
      "reviewer_nationality_Canada: 98.45% одинаковых значений\n",
      "reviewer_nationality_Germany: 98.46% одинаковых значений\n",
      "reviewer_nationality_Oman: 99.74% одинаковых значений\n",
      "reviewer_nationality_Austria: 99.53% одинаковых значений\n",
      "reviewer_nationality_Japan: 99.75% одинаковых значений\n",
      "reviewer_nationality_Ukraine: 99.79% одинаковых значений\n",
      "reviewer_nationality_Finland: 99.65% одинаковых значений\n",
      "reviewer_nationality_Iran: 99.79% одинаковых значений\n",
      "reviewer_nationality_Thailand: 99.64% одинаковых значений\n",
      "reviewer_nationality_Brazil: 99.64% одинаковых значений\n",
      "reviewer_nationality_Denmark: 99.67% одинаковых значений\n",
      "reviewer_nationality_Australia: 95.8% одинаковых значений\n",
      "reviewer_nationality_Spain: 99.09% одинаковых значений\n",
      "reviewer_nationality_Gabon: 100.0% одинаковых значений\n",
      "reviewer_nationality_New Zealand: 99.37% одинаковых значений\n",
      "reviewer_nationality_Israel: 98.73% одинаковых значений\n",
      "reviewer_nationality_Cyprus: 99.75% одинаковых значений\n",
      "reviewer_nationality_Gibraltar: 99.93% одинаковых значений\n",
      "reviewer_nationality_Turkey: 98.94% одинаковых значений\n",
      "reviewer_nationality_Egypt: 99.54% одинаковых значений\n",
      "reviewer_nationality_Indonesia: 99.7% одинаковых значений\n",
      "reviewer_nationality_Slovakia: 99.82% одинаковых значений\n",
      "reviewer_nationality_Qatar: 99.47% одинаковых значений\n",
      "reviewer_nationality_Romania: 99.11% одинаковых значений\n",
      "reviewer_nationality_Belgium: 98.83% одинаковых значений\n",
      "reviewer_nationality_Trinidad and Tobago: 99.97% одинаковых значений\n",
      "reviewer_nationality_: 99.9% одинаковых значений\n",
      "reviewer_nationality_Saudi Arabia: 98.26% одинаковых значений\n",
      "reviewer_nationality_Bhutan: 100.0% одинаковых значений\n",
      "reviewer_nationality_Iceland: 99.82% одинаковых значений\n",
      "reviewer_nationality_Norway: 99.54% одинаковых значений\n",
      "reviewer_nationality_Sri Lanka: 99.94% одинаковых значений\n",
      "reviewer_nationality_Isle of Man: 99.92% одинаковых значений\n",
      "reviewer_nationality_Greece: 99.35% одинаковых значений\n",
      "reviewer_nationality_Slovenia: 99.85% одинаковых значений\n",
      "reviewer_nationality_Serbia: 99.78% одинаковых значений\n",
      "reviewer_nationality_Czech Republic: 99.56% одинаковых значений\n",
      "reviewer_nationality_Hungary: 99.57% одинаковых значений\n",
      "reviewer_nationality_Latvia: 99.86% одинаковых значений\n",
      "reviewer_nationality_Estonia: 99.86% одинаковых значений\n",
      "reviewer_nationality_South Korea: 99.79% одинаковых значений\n",
      "reviewer_nationality_Malaysia: 99.63% одинаковых значений\n",
      "reviewer_nationality_Malta: 99.68% одинаковых значений\n",
      "reviewer_nationality_Bosnia and Herzegovina: 99.95% одинаковых значений\n",
      "reviewer_nationality_Jordan: 99.85% одинаковых значений\n",
      "reviewer_nationality_Chile: 99.93% одинаковых значений\n",
      "reviewer_nationality_India: 99.34% одинаковых значений\n",
      "reviewer_nationality_Vietnam: 99.96% одинаковых значений\n",
      "reviewer_nationality_Puerto Rico: 99.96% одинаковых значений\n",
      "reviewer_nationality_Russia: 99.24% одинаковых значений\n",
      "reviewer_nationality_Colombia: 99.95% одинаковых значений\n",
      "reviewer_nationality_Georgia: 99.94% одинаковых значений\n",
      "reviewer_nationality_Argentina: 99.91% одинаковых значений\n",
      "reviewer_nationality_Guernsey: 99.9% одинаковых значений\n",
      "reviewer_nationality_Kazakhstan: 99.94% одинаковых значений\n",
      "reviewer_nationality_Brunei: 99.98% одинаковых значений\n",
      "reviewer_nationality_Croatia: 99.74% одинаковых значений\n",
      "reviewer_nationality_Lithuania: 99.86% одинаковых значений\n",
      "reviewer_nationality_Montenegro: 99.96% одинаковых значений\n",
      "reviewer_nationality_Costa Rica: 99.98% одинаковых значений\n",
      "reviewer_nationality_Mauritius: 99.96% одинаковых значений\n",
      "reviewer_nationality_Fiji: 100.0% одинаковых значений\n",
      "reviewer_nationality_Philippines: 99.79% одинаковых значений\n",
      "reviewer_nationality_Bermuda: 99.98% одинаковых значений\n",
      "reviewer_nationality_Peru: 99.98% одинаковых значений\n",
      "reviewer_nationality_Belarus: 99.96% одинаковых значений\n",
      "reviewer_nationality_Morocco: 99.95% одинаковых значений\n",
      "reviewer_nationality_Seychelles: 100.0% одинаковых значений\n",
      "reviewer_nationality_Azerbaijan: 99.94% одинаковых значений\n",
      "reviewer_nationality_Venezuela: 99.99% одинаковых значений\n",
      "reviewer_nationality_Taiwan: 99.83% одинаковых значений\n",
      "reviewer_nationality_Sudan: 99.99% одинаковых значений\n",
      "reviewer_nationality_Ghana: 99.97% одинаковых значений\n",
      "reviewer_nationality_Paraguay: 100.0% одинаковых значений\n",
      "reviewer_nationality_Bahamas: 99.99% одинаковых значений\n",
      "reviewer_nationality_Macedonia: 99.94% одинаковых значений\n",
      "reviewer_nationality_Monaco: 99.95% одинаковых значений\n",
      "reviewer_nationality_Panama: 99.98% одинаковых значений\n",
      "reviewer_nationality_Dominica: 100.0% одинаковых значений\n",
      "reviewer_nationality_Guatemala: 99.99% одинаковых значений\n",
      "reviewer_nationality_Mauritania: 100.0% одинаковых значений\n",
      "reviewer_nationality_Ecuador: 99.99% одинаковых значений\n",
      "reviewer_nationality_Kenya: 99.95% одинаковых значений\n",
      "reviewer_nationality_Iraq: 99.94% одинаковых значений\n",
      "reviewer_nationality_Bangladesh: 99.97% одинаковых значений\n",
      "reviewer_nationality_Zimbabwe: 99.99% одинаковых значений\n",
      "reviewer_nationality_Armenia: 99.97% одинаковых значений\n",
      "reviewer_nationality_Tuvalu: 100.0% одинаковых значений\n",
      "reviewer_nationality_Kosovo: 99.99% одинаковых значений\n",
      "reviewer_nationality_Abkhazia Georgia: 99.97% одинаковых значений\n",
      "reviewer_nationality_Rwanda: 100.0% одинаковых значений\n",
      "reviewer_nationality_Andorra: 99.99% одинаковых значений\n",
      "reviewer_nationality_United States Minor Outlying Islands: 99.99% одинаковых значений\n",
      "reviewer_nationality_Albania: 99.94% одинаковых значений\n",
      "reviewer_nationality_Syria: 99.99% одинаковых значений\n",
      "reviewer_nationality_Namibia: 99.99% одинаковых значений\n",
      "reviewer_nationality_Libya: 99.98% одинаковых значений\n",
      "reviewer_nationality_Barbados: 99.99% одинаковых значений\n",
      "reviewer_nationality_Moldova: 99.98% одинаковых значений\n",
      "reviewer_nationality_Bolivia: 100.0% одинаковых значений\n",
      "reviewer_nationality_Tanzania: 99.99% одинаковых значений\n",
      "reviewer_nationality_Faroe Islands: 100.0% одинаковых значений\n",
      "reviewer_nationality_Mali: 100.0% одинаковых значений\n",
      "reviewer_nationality_Liechtenstein: 100.0% одинаковых значений\n",
      "reviewer_nationality_El Salvador: 99.99% одинаковых значений\n",
      "reviewer_nationality_Tunisia: 99.98% одинаковых значений\n",
      "reviewer_nationality_Algeria: 99.98% одинаковых значений\n",
      "reviewer_nationality_Macau: 99.98% одинаковых значений\n",
      "reviewer_nationality_Mongolia: 99.99% одинаковых значений\n",
      "reviewer_nationality_Lesotho: 100.0% одинаковых значений\n",
      "reviewer_nationality_Madagascar: 100.0% одинаковых значений\n",
      "reviewer_nationality_Nicaragua: 100.0% одинаковых значений\n",
      "reviewer_nationality_Zambia: 99.99% одинаковых значений\n",
      "reviewer_nationality_Papua New Guinea: 100.0% одинаковых значений\n",
      "reviewer_nationality_Ethiopia: 99.99% одинаковых значений\n",
      "reviewer_nationality_Cayman Islands: 99.99% одинаковых значений\n",
      "reviewer_nationality_Ivory Coast: 100.0% одинаковых значений\n",
      "reviewer_nationality_Cura ao: 99.99% одинаковых значений\n",
      "reviewer_nationality_Senegal: 100.0% одинаковых значений\n",
      "reviewer_nationality_U S Virgin Islands: 100.0% одинаковых значений\n",
      "reviewer_nationality_Saint Lucia: 100.0% одинаковых значений\n",
      "reviewer_nationality_Antarctica: 100.0% одинаковых значений\n",
      "reviewer_nationality_Jamaica: 99.99% одинаковых значений\n",
      "reviewer_nationality_Belize: 100.0% одинаковых значений\n",
      "reviewer_nationality_Angola: 99.99% одинаковых значений\n",
      "reviewer_nationality_Myanmar: 100.0% одинаковых значений\n",
      "reviewer_nationality_Burundi: 100.0% одинаковых значений\n",
      "reviewer_nationality_Honduras: 100.0% одинаковых значений\n",
      "reviewer_nationality_Maldives: 99.99% одинаковых значений\n",
      "reviewer_nationality_Uganda: 99.99% одинаковых значений\n",
      "reviewer_nationality_Aruba: 99.99% одинаковых значений\n",
      "reviewer_nationality_Yemen: 100.0% одинаковых значений\n",
      "reviewer_nationality_Uruguay: 99.99% одинаковых значений\n",
      "reviewer_nationality_Benin: 100.0% одинаковых значений\n",
      "reviewer_nationality_Palestinian Territory: 99.99% одинаковых значений\n",
      "reviewer_nationality_Gambia: 100.0% одинаковых значений\n",
      "reviewer_nationality_Botswana: 99.99% одинаковых значений\n",
      "reviewer_nationality_French Polynesia: 100.0% одинаковых значений\n",
      "reviewer_nationality_Suriname: 100.0% одинаковых значений\n",
      "reviewer_nationality_Malawi: 100.0% одинаковых значений\n",
      "reviewer_nationality_Anguilla: 100.0% одинаковых значений\n",
      "reviewer_nationality_Comoros: 100.0% одинаковых значений\n",
      "reviewer_nationality_Niger: 100.0% одинаковых значений\n",
      "reviewer_nationality_Djibouti: 100.0% одинаковых значений\n",
      "reviewer_nationality_Mozambique: 99.99% одинаковых значений\n",
      "reviewer_nationality_Guinea: 100.0% одинаковых значений\n",
      "reviewer_nationality_Falkland Islands Malvinas: 100.0% одинаковых значений\n",
      "reviewer_nationality_Togo: 100.0% одинаковых значений\n",
      "reviewer_nationality_Turks Caicos Islands: 100.0% одинаковых значений\n",
      "reviewer_nationality_Cambodia: 99.99% одинаковых значений\n",
      "reviewer_nationality_Saint Kitts and Nevis: 100.0% одинаковых значений\n",
      "reviewer_nationality_Dominican Republic: 99.99% одинаковых значений\n",
      "reviewer_nationality_Turkmenistan: 100.0% одинаковых значений\n",
      "reviewer_nationality_Laos: 100.0% одинаковых значений\n",
      "reviewer_nationality_Cook Islands: 100.0% одинаковых значений\n",
      "reviewer_nationality_Crimea: 100.0% одинаковых значений\n",
      "reviewer_nationality_Congo: 100.0% одинаковых значений\n",
      "reviewer_nationality_Liberia: 100.0% одинаковых значений\n",
      "reviewer_nationality_Uzbekistan: 100.0% одинаковых значений\n",
      "reviewer_nationality_St Maarten: 100.0% одинаковых значений\n",
      "reviewer_nationality_Kyrgyzstan: 100.0% одинаковых значений\n",
      "reviewer_nationality_British Virgin Islands: 100.0% одинаковых значений\n",
      "reviewer_nationality_Martinique: 100.0% одинаковых значений\n",
      "reviewer_nationality_Montserrat: 100.0% одинаковых значений\n",
      "reviewer_nationality_Guam: 100.0% одинаковых значений\n",
      "reviewer_nationality_Equatorial Guinea: 100.0% одинаковых значений\n",
      "reviewer_nationality_Nepal: 100.0% одинаковых значений\n",
      "reviewer_nationality_Antigua Barbuda: 100.0% одинаковых значений\n",
      "reviewer_nationality_Tajikistan: 100.0% одинаковых значений\n",
      "reviewer_nationality_St Pierre and Miquelon: 100.0% одинаковых значений\n",
      "reviewer_nationality_Guadeloupe: 100.0% одинаковых значений\n",
      "reviewer_nationality_New Caledonia: 100.0% одинаковых значений\n",
      "reviewer_nationality_Cocos K I: 100.0% одинаковых значений\n",
      "reviewer_nationality_Wallis and Futuna: 100.0% одинаковых значений\n",
      "reviewer_nationality_Haiti: 100.0% одинаковых значений\n",
      "reviewer_nationality_Sierra Leone: 100.0% одинаковых значений\n",
      "reviewer_nationality_Swaziland: 100.0% одинаковых значений\n",
      "reviewer_nationality_Saint Martin: 100.0% одинаковых значений\n",
      "reviewer_nationality_Vanuatu: 100.0% одинаковых значений\n",
      "reviewer_nationality_Saint Vincent Grenadines: 100.0% одинаковых значений\n",
      "reviewer_nationality_French Guiana: 100.0% одинаковых значений\n",
      "reviewer_nationality_Afghanistan: 100.0% одинаковых значений\n",
      "reviewer_nationality_Samoa: 100.0% одинаковых значений\n",
      "reviewer_nationality_Guyana: 100.0% одинаковых значений\n",
      "reviewer_nationality_South Sudan: 100.0% одинаковых значений\n",
      "reviewer_nationality_Kiribati: 100.0% одинаковых значений\n",
      "reviewer_nationality_Reunion: 100.0% одинаковых значений\n",
      "reviewer_nationality_Bonaire St Eustatius and Saba: 100.0% одинаковых значений\n",
      "reviewer_nationality_Somalia: 100.0% одинаковых значений\n",
      "reviewer_nationality_Democratic Republic of the Congo: 100.0% одинаковых значений\n",
      "reviewer_nationality_Eritrea: 100.0% одинаковых значений\n",
      "reviewer_nationality_San Marino: 100.0% одинаковых значений\n",
      "reviewer_nationality_Cameroon: 100.0% одинаковых значений\n",
      "reviewer_nationality_East Timor: 100.0% одинаковых значений\n",
      "reviewer_nationality_Svalbard Jan Mayen: 100.0% одинаковых значений\n",
      "reviewer_nationality_American Samoa: 100.0% одинаковых значений\n",
      "reviewer_nationality_Northern Mariana Islands: 100.0% одинаковых значений\n",
      "reviewer_nationality_Saint Barts: 100.0% одинаковых значений\n",
      "reviewer_nationality_Central Africa Republic: 100.0% одинаковых значений\n",
      "reviewer_nationality_Palau: 100.0% одинаковых значений\n",
      "reviewer_nationality_Grenada: 100.0% одинаковых значений\n",
      "Large Double Room: 99.77% одинаковых значений\n",
      "Double Hilton Guestroom: 99.74% одинаковых значений\n",
      "Deluxe King or Twin Room: 99.67% одинаковых значений\n",
      "Club Double Room: 98.77% одинаковых значений\n",
      "Double Guest Room: 99.32% одинаковых значений\n",
      "Standard Double or Twin Room: 96.49% одинаковых значений\n",
      "\n",
      "Удалены признаки: ['country_Nicaragua', 'country_Palau', 'town_Panama', 'town_Buenos Aires', 'town_Lima', 'town_Spain', 'town_Rio de Janeiro', 'town_Mexico', 'reviewer_nationality_China', 'reviewer_nationality_Poland', 'reviewer_nationality_France', 'reviewer_nationality_Switzerland', 'reviewer_nationality_Bulgaria', 'reviewer_nationality_Lebanon', 'reviewer_nationality_United Arab Emirates', 'reviewer_nationality_South Africa', 'reviewer_nationality_Nigeria', 'reviewer_nationality_Sweden', 'reviewer_nationality_Hong Kong', 'reviewer_nationality_Luxembourg', 'reviewer_nationality_Netherlands', 'reviewer_nationality_Jersey', 'reviewer_nationality_Pakistan', 'reviewer_nationality_Mexico', 'reviewer_nationality_Italy', 'reviewer_nationality_Singapore', 'reviewer_nationality_Ireland', 'reviewer_nationality_Kuwait', 'reviewer_nationality_Bahrain', 'reviewer_nationality_Portugal', 'reviewer_nationality_Canada', 'reviewer_nationality_Germany', 'reviewer_nationality_Oman', 'reviewer_nationality_Austria', 'reviewer_nationality_Japan', 'reviewer_nationality_Ukraine', 'reviewer_nationality_Finland', 'reviewer_nationality_Iran', 'reviewer_nationality_Thailand', 'reviewer_nationality_Brazil', 'reviewer_nationality_Denmark', 'reviewer_nationality_Australia', 'reviewer_nationality_Spain', 'reviewer_nationality_Gabon', 'reviewer_nationality_New Zealand', 'reviewer_nationality_Israel', 'reviewer_nationality_Cyprus', 'reviewer_nationality_Gibraltar', 'reviewer_nationality_Turkey', 'reviewer_nationality_Egypt', 'reviewer_nationality_Indonesia', 'reviewer_nationality_Slovakia', 'reviewer_nationality_Qatar', 'reviewer_nationality_Romania', 'reviewer_nationality_Belgium', 'reviewer_nationality_Trinidad and Tobago', 'reviewer_nationality_', 'reviewer_nationality_Saudi Arabia', 'reviewer_nationality_Bhutan', 'reviewer_nationality_Iceland', 'reviewer_nationality_Norway', 'reviewer_nationality_Sri Lanka', 'reviewer_nationality_Isle of Man', 'reviewer_nationality_Greece', 'reviewer_nationality_Slovenia', 'reviewer_nationality_Serbia', 'reviewer_nationality_Czech Republic', 'reviewer_nationality_Hungary', 'reviewer_nationality_Latvia', 'reviewer_nationality_Estonia', 'reviewer_nationality_South Korea', 'reviewer_nationality_Malaysia', 'reviewer_nationality_Malta', 'reviewer_nationality_Bosnia and Herzegovina', 'reviewer_nationality_Jordan', 'reviewer_nationality_Chile', 'reviewer_nationality_India', 'reviewer_nationality_Vietnam', 'reviewer_nationality_Puerto Rico', 'reviewer_nationality_Russia', 'reviewer_nationality_Colombia', 'reviewer_nationality_Georgia', 'reviewer_nationality_Argentina', 'reviewer_nationality_Guernsey', 'reviewer_nationality_Kazakhstan', 'reviewer_nationality_Brunei', 'reviewer_nationality_Croatia', 'reviewer_nationality_Lithuania', 'reviewer_nationality_Montenegro', 'reviewer_nationality_Costa Rica', 'reviewer_nationality_Mauritius', 'reviewer_nationality_Fiji', 'reviewer_nationality_Philippines', 'reviewer_nationality_Bermuda', 'reviewer_nationality_Peru', 'reviewer_nationality_Belarus', 'reviewer_nationality_Morocco', 'reviewer_nationality_Seychelles', 'reviewer_nationality_Azerbaijan', 'reviewer_nationality_Venezuela', 'reviewer_nationality_Taiwan', 'reviewer_nationality_Sudan', 'reviewer_nationality_Ghana', 'reviewer_nationality_Paraguay', 'reviewer_nationality_Bahamas', 'reviewer_nationality_Macedonia', 'reviewer_nationality_Monaco', 'reviewer_nationality_Panama', 'reviewer_nationality_Dominica', 'reviewer_nationality_Guatemala', 'reviewer_nationality_Mauritania', 'reviewer_nationality_Ecuador', 'reviewer_nationality_Kenya', 'reviewer_nationality_Iraq', 'reviewer_nationality_Bangladesh', 'reviewer_nationality_Zimbabwe', 'reviewer_nationality_Armenia', 'reviewer_nationality_Tuvalu', 'reviewer_nationality_Kosovo', 'reviewer_nationality_Abkhazia Georgia', 'reviewer_nationality_Rwanda', 'reviewer_nationality_Andorra', 'reviewer_nationality_United States Minor Outlying Islands', 'reviewer_nationality_Albania', 'reviewer_nationality_Syria', 'reviewer_nationality_Namibia', 'reviewer_nationality_Libya', 'reviewer_nationality_Barbados', 'reviewer_nationality_Moldova', 'reviewer_nationality_Bolivia', 'reviewer_nationality_Tanzania', 'reviewer_nationality_Faroe Islands', 'reviewer_nationality_Mali', 'reviewer_nationality_Liechtenstein', 'reviewer_nationality_El Salvador', 'reviewer_nationality_Tunisia', 'reviewer_nationality_Algeria', 'reviewer_nationality_Macau', 'reviewer_nationality_Mongolia', 'reviewer_nationality_Lesotho', 'reviewer_nationality_Madagascar', 'reviewer_nationality_Nicaragua', 'reviewer_nationality_Zambia', 'reviewer_nationality_Papua New Guinea', 'reviewer_nationality_Ethiopia', 'reviewer_nationality_Cayman Islands', 'reviewer_nationality_Ivory Coast', 'reviewer_nationality_Cura ao', 'reviewer_nationality_Senegal', 'reviewer_nationality_U S Virgin Islands', 'reviewer_nationality_Saint Lucia', 'reviewer_nationality_Antarctica', 'reviewer_nationality_Jamaica', 'reviewer_nationality_Belize', 'reviewer_nationality_Angola', 'reviewer_nationality_Myanmar', 'reviewer_nationality_Burundi', 'reviewer_nationality_Honduras', 'reviewer_nationality_Maldives', 'reviewer_nationality_Uganda', 'reviewer_nationality_Aruba', 'reviewer_nationality_Yemen', 'reviewer_nationality_Uruguay', 'reviewer_nationality_Benin', 'reviewer_nationality_Palestinian Territory', 'reviewer_nationality_Gambia', 'reviewer_nationality_Botswana', 'reviewer_nationality_French Polynesia', 'reviewer_nationality_Suriname', 'reviewer_nationality_Malawi', 'reviewer_nationality_Anguilla', 'reviewer_nationality_Comoros', 'reviewer_nationality_Niger', 'reviewer_nationality_Djibouti', 'reviewer_nationality_Mozambique', 'reviewer_nationality_Guinea', 'reviewer_nationality_Falkland Islands Malvinas', 'reviewer_nationality_Togo', 'reviewer_nationality_Turks Caicos Islands', 'reviewer_nationality_Cambodia', 'reviewer_nationality_Saint Kitts and Nevis', 'reviewer_nationality_Dominican Republic', 'reviewer_nationality_Turkmenistan', 'reviewer_nationality_Laos', 'reviewer_nationality_Cook Islands', 'reviewer_nationality_Crimea', 'reviewer_nationality_Congo', 'reviewer_nationality_Liberia', 'reviewer_nationality_Uzbekistan', 'reviewer_nationality_St Maarten', 'reviewer_nationality_Kyrgyzstan', 'reviewer_nationality_British Virgin Islands', 'reviewer_nationality_Martinique', 'reviewer_nationality_Montserrat', 'reviewer_nationality_Guam', 'reviewer_nationality_Equatorial Guinea', 'reviewer_nationality_Nepal', 'reviewer_nationality_Antigua Barbuda', 'reviewer_nationality_Tajikistan', 'reviewer_nationality_St Pierre and Miquelon', 'reviewer_nationality_Guadeloupe', 'reviewer_nationality_New Caledonia', 'reviewer_nationality_Cocos K I', 'reviewer_nationality_Wallis and Futuna', 'reviewer_nationality_Haiti', 'reviewer_nationality_Sierra Leone', 'reviewer_nationality_Swaziland', 'reviewer_nationality_Saint Martin', 'reviewer_nationality_Vanuatu', 'reviewer_nationality_Saint Vincent Grenadines', 'reviewer_nationality_French Guiana', 'reviewer_nationality_Afghanistan', 'reviewer_nationality_Samoa', 'reviewer_nationality_Guyana', 'reviewer_nationality_South Sudan', 'reviewer_nationality_Kiribati', 'reviewer_nationality_Reunion', 'reviewer_nationality_Bonaire St Eustatius and Saba', 'reviewer_nationality_Somalia', 'reviewer_nationality_Democratic Republic of the Congo', 'reviewer_nationality_Eritrea', 'reviewer_nationality_San Marino', 'reviewer_nationality_Cameroon', 'reviewer_nationality_East Timor', 'reviewer_nationality_Svalbard Jan Mayen', 'reviewer_nationality_American Samoa', 'reviewer_nationality_Northern Mariana Islands', 'reviewer_nationality_Saint Barts', 'reviewer_nationality_Central Africa Republic', 'reviewer_nationality_Palau', 'reviewer_nationality_Grenada', 'Large Double Room', 'Double Hilton Guestroom', 'Deluxe King or Twin Room', 'Club Double Room', 'Double Guest Room', 'Standard Double or Twin Room']\n"
     ]
    }
   ],
   "source": [
    "#список неинформативных признаков\n",
    "low_information_cols = [] \n",
    "\n",
    "all_columns = tmp_df_all.columns.to_list()\n",
    "all_columns.remove( 'reviewer_score' )\n",
    "\n",
    "#цикл по всем столбцам\n",
    "for col in all_columns:\n",
    "    #наибольшая относительная частота в признаке\n",
    "    top_freq = tmp_df_all[col].value_counts(normalize=True).max()\n",
    "    #доля уникальных значений от размера признака\n",
    "    nunique_ratio = tmp_df_all[col].nunique() / tmp_df_all[col].count()\n",
    "    # сравниваем наибольшую частоту с порогом\n",
    "    if top_freq > 0.95:\n",
    "        low_information_cols.append(col)\n",
    "        print(f'{col}: {round(top_freq*100, 2)}% одинаковых значений')\n",
    "    # сравниваем долю уникальных значений с порогом\n",
    "    if nunique_ratio > 0.95:\n",
    "        low_information_cols.append(col)\n",
    "        print(f'{col}: {round(nunique_ratio*100, 2)}% уникальных значений')\n",
    "        \n",
    "tmp_df_all.drop(low_information_cols, axis=1, inplace=True)\n",
    "print()\n",
    "print(f'Удалены признаки: {low_information_cols}')"
   ]
  },
  {
   "cell_type": "markdown",
   "metadata": {},
   "source": [
    "### Готовим данные для обучения"
   ]
  },
  {
   "cell_type": "code",
   "execution_count": 246,
   "metadata": {},
   "outputs": [],
   "source": [
    "# Числовые признаки. Включим все признаки\n",
    "num_cols = ['total_number_of_reviews', 'review_total_negative_word_counts', 'lat','lng','additional_number_of_scoring',\n",
    "    'total_number_of_reviews_reviewer_has_given', 'review_total_positive_word_counts'\n",
    "]\n",
    "\n",
    "# Пойдем нестандартно. Пусть все поля считаем числовыми\n",
    "num_cols = tmp_df_all.columns.to_list()\n",
    "num_cols.remove('reviewer_score')\n",
    "\n",
    "# категориальные признаки\n",
    "cat_cols = ['average_score', 'lat', 'lng', 'additional_number_of_scoring']\n",
    "\n",
    "# Целевой признак\n",
    "rez_cols = ['reviewer_score']\n",
    "\n",
    "all_cols = list( set( num_cols ).union( set( cat_cols )).union( set( rez_cols ) ))\n",
    "\n",
    "tmp_df = tmp_df_all.copy()"
   ]
  },
  {
   "cell_type": "markdown",
   "metadata": {},
   "source": [
    "### Разбиваем датафрейм на части, необходимые для обучения и тестирования модели "
   ]
  },
  {
   "cell_type": "code",
   "execution_count": 247,
   "metadata": {},
   "outputs": [],
   "source": [
    "# Х - данные с информацией об отелях, у - целевая переменная (рейтинги отелей)  \n",
    "X = tmp_df.drop(['reviewer_score'], axis = 1)  \n",
    "y = tmp_df['reviewer_score'] \n",
    "\n",
    "# Загружаем специальный инструмент для разбивки:  \n",
    "from sklearn.model_selection import train_test_split  \n",
    "\n",
    "# Наборы данных с меткой \"train\" будут использоваться для обучения модели, \"test\" - для тестирования.  \n",
    "# Для тестирования мы будем использовать 25% от исходного датасета.  \n",
    "X_train, X_test, y_train, y_test = train_test_split(X, y, test_size=0.25, random_state=42)"
   ]
  },
  {
   "cell_type": "code",
   "execution_count": 248,
   "metadata": {},
   "outputs": [
    {
     "data": {
      "text/plain": [
       "lat                                146.404437\n",
       "average_score                     1875.411565\n",
       "lng                               4929.202535\n",
       "additional_number_of_scoring    848736.321059\n",
       "dtype: float64"
      ]
     },
     "execution_count": 248,
     "metadata": {},
     "output_type": "execute_result"
    },
    {
     "data": {
      "image/png": "[encoded data removed]",
      "text/plain": [
       "<Figure size 1500x500 with 1 Axes>"
      ]
     },
     "metadata": {},
     "output_type": "display_data"
    }
   ],
   "source": [
    "# Категориальные признаки\n",
    "y1=y.astype('int')\n",
    "\n",
    "from sklearn.feature_selection import chi2 # хи-квадрат\n",
    "\n",
    "imp_cat = pd.Series(chi2(X[cat_cols], y1)[0], index=cat_cols)\n",
    "imp_cat.sort_values(inplace = True)\n",
    "fig, axes = plt.subplots(1, 1, figsize=(15, 5 ))  # График динамически настраивается в высоту\n",
    "imp_cat.plot(kind = 'barh')\n",
    "imp_cat"
   ]
  },
  {
   "cell_type": "code",
   "execution_count": 249,
   "metadata": {},
   "outputs": [
    {
     "name": "stdout",
     "output_type": "stream",
     "text": [
      "Удалены избыточные признаки, слабо влияющие на целевой показатель ['review_date_day', 'hotel_name_9', 'hotel_name_4', 'hotel_name_8', 'hotel_name_5', 'hotel_name_3', 'Deluxe Double Room', 'Double Room', 'country_France', 'hotel_name_6', 'hotel_name_0', 'country_Italy', 'hotel_name_10', 'hotel_name_2', 'country_Netherlands', 'Superior Double Room', 'Deluxe Double', 'review_date_year', 'hotel_name_1', 'review_date_month', 'country_Austria', 'hotel_name_7', 'country_Spain', 'Stayed 1 night', 'lat']\n"
     ]
    },
    {
     "data": {
      "text/plain": [
       "<Axes: >"
      ]
     },
     "execution_count": 249,
     "metadata": {},
     "output_type": "execute_result"
    },
    {
     "data": {
      "image/png": "[encoded data removed]",
      "text/plain": [
       "<Figure size 1500x1850 with 1 Axes>"
      ]
     },
     "metadata": {},
     "output_type": "display_data"
    }
   ],
   "source": [
    "# Числовые признаки\n",
    "\n",
    "# Предварительная оценка\n",
    "from sklearn.feature_selection import f_classif # anova\n",
    "\n",
    "imp_num = pd.Series(f_classif(X[num_cols], y)[0], index = num_cols)\n",
    "imp_num.sort_values(inplace = True)\n",
    "\n",
    "# Удалим признаки, которые влия.т меньше, чем на % от максимального значения\n",
    "imp_num_max = imp_num.max()\n",
    "del_cols = imp_num[ imp_num < imp_num_max * 0.01].index.to_list()\n",
    "\n",
    "# Удаляем избытояные для обучения признаки\n",
    "X_train.drop( del_cols, axis=1, inplace=True )\n",
    "X_test.drop( del_cols, axis=1, inplace=True )\n",
    "X.drop( del_cols, axis=1, inplace=True )\n",
    "print( f\"Удалены избыточные признаки, слабо влияющие на целевой показатель {del_cols}\" )\n",
    "\n",
    "# Визуализируем\n",
    "num_cols = list( set( num_cols ) - set( del_cols ) )\n",
    "\n",
    "imp_num = pd.Series(f_classif(X[num_cols], y)[0], index = num_cols)\n",
    "imp_num.sort_values(inplace = True)\n",
    "\n",
    "fig, axes = plt.subplots(1, 1, figsize=(15, 5 * X_train.shape[1] / 10))\n",
    "imp_num.plot(kind = 'barh')"
   ]
  },
  {
   "cell_type": "markdown",
   "metadata": {},
   "source": [
    "# Обучаем модель"
   ]
  },
  {
   "cell_type": "code",
   "execution_count": 250,
   "metadata": {},
   "outputs": [],
   "source": [
    "# Импортируем необходимые библиотеки:  \n",
    "from sklearn.ensemble import RandomForestRegressor # инструмент для создания и обучения модели  \n",
    "from sklearn import metrics # инструменты для оценки точности модели  \n",
    "  \n",
    "# Создаём модель  \n",
    "regr = RandomForestRegressor(n_estimators=100)  \n",
    "      \n",
    "# Обучаем модель на тестовом наборе данных  \n",
    "regr.fit(X_train, y_train)  \n",
    "      \n",
    "# Используем обученную модель для предсказания рейтинга отелей в тестовой выборке.  \n",
    "# Предсказанные значения записываем в переменную y_pred  \n",
    "y_pred = regr.predict(X_test)  \n",
    "\n",
    "################################################\n",
    "# default: MAPE: 0.14155421973519144\n",
    "\n",
    "# 7 min"
   ]
  },
  {
   "cell_type": "code",
   "execution_count": 251,
   "metadata": {},
   "outputs": [
    {
     "name": "stdout",
     "output_type": "stream",
     "text": [
      "MAPE: 0.12800593133578694\n",
      "MAE: 0.8860445343363373\n"
     ]
    }
   ],
   "source": [
    "# Сравниваем предсказанные значения (y_pred) с реальными (y_test), и смотрим насколько они отличаются  \n",
    "# Метрика называется Mean Absolute Percentage Error (MAPE) и показывает среднюю абсолютную процентную ошибку предсказанных значений от фактических.  \n",
    "print('MAPE:', metrics.mean_absolute_percentage_error(y_test, y_pred))\n",
    "\n",
    "# Метрика называется Mean Absolute Error (MAE) и показывает среднее отклонение предсказанных значений от фактических.\n",
    "print('MAE:', metrics.mean_absolute_error(y_test, y_pred))"
   ]
  },
  {
   "cell_type": "code",
   "execution_count": 252,
   "metadata": {},
   "outputs": [],
   "source": [
    "hotels_submit_predict = y_test.to_frame().loc[:,'reviewer_score']"
   ]
  },
  {
   "cell_type": "code",
   "execution_count": 253,
   "metadata": {},
   "outputs": [],
   "source": [
    "hotels_submit_predict.to_csv('hotels_submit_predict.csv', index = False)"
   ]
  }
 ],
 "metadata": {
  "kernelspec": {
   "display_name": "Python 3",
   "language": "python",
   "name": "python3"
  },
  "language_info": {
   "codemirror_mode": {
    "name": "ipython",
    "version": 3
   },
   "file_extension": ".py",
   "mimetype": "text/x-python",
   "name": "python",
   "nbconvert_exporter": "python",
   "pygments_lexer": "ipython3",
   "version": "3.9.13"
  }
 },
 "nbformat": 4,
 "nbformat_minor": 2
}
